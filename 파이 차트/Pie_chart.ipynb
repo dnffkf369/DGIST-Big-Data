{
 "cells": [
  {
   "cell_type": "markdown",
   "metadata": {},
   "source": [
    "# Pie chart 생성 - 연령별"
   ]
  },
  {
   "cell_type": "code",
   "execution_count": 1,
   "metadata": {
    "collapsed": true
   },
   "outputs": [],
   "source": [
    "import pandas as pd\n",
    "import matplotlib\n",
    "import matplotlib.pyplot as plt\n",
    "import numpy as np"
   ]
  },
  {
   "cell_type": "code",
   "execution_count": 2,
   "metadata": {
    "collapsed": true
   },
   "outputs": [],
   "source": [
    "# matplotlib에서 한글 사용하기\n",
    "from matplotlib import font_manager, rc\n",
    "font_name = font_manager.FontProperties(fname=\"c:/Windows/Fonts/malgun.ttf\").get_name()\n",
    "rc('font', family=font_name)"
   ]
  },
  {
   "cell_type": "code",
   "execution_count": 3,
   "metadata": {},
   "outputs": [],
   "source": [
    "age_data = pd.read_excel('hurt_age_2016.xls')\n",
    "age_data = age_data.dropna()\n",
    "age_data.columns = ['연령', '사상여부','사상자수']\n",
    "age_data = age_data.drop(age_data.where(age_data['연령']=='연령층별').dropna().index)\n",
    "age_data = age_data.reset_index(drop=True)\n",
    "hurt_people=[]\n",
    "for i in range(10):\n",
    "    hurt_people.append(age_data.iloc[2*i]['사상자수'] + age_data.iloc[2*i+1]['사상자수'])\n",
    "hurt_people[1:] = hurt_people[1:]/hurt_people[0] * 100"
   ]
  },
  {
   "cell_type": "code",
   "execution_count": 5,
   "metadata": {},
   "outputs": [],
   "source": [
    "labels = ['14세이하','15-20세','21-30세','31-40세','41-50세','51-60세','61-64세','65세이상']\n",
    "ratio = hurt_people[1:9]\n",
    "explode = [0,0,0,0,0,0.1,0,0]\n",
    "color = ['red', 'orangered','orange','gold','forestgreen','royalblue','magenta','darkorchid']\n",
    "plt.pie(ratio, labels=labels, colors= color, shadow=True,autopct='%1.1f%%', explode = explode, startangle=90)\n",
    "\n",
    "plt.savefig('age2016pie.png')\n",
    "plt.close()"
   ]
  },
  {
   "cell_type": "markdown",
   "metadata": {},
   "source": [
    "# Pie chart 생성 - 기상별"
   ]
  },
  {
   "cell_type": "code",
   "execution_count": 32,
   "metadata": {},
   "outputs": [],
   "source": [
    "weather_data = pd.read_excel('hurt_weather_2016.xls')\n",
    "weather_data = weather_data.dropna()\n",
    "weather_data.columns = ['날씨','사상여부','사상자수']\n",
    "weather_data = weather_data.drop(weather_data.where(weather_data['날씨']=='기상상태').dropna().index)\n",
    "weather_data = weather_data.reset_index(drop=True)\n",
    "hurt_people=[]\n",
    "for i in range(7):\n",
    "    hurt_people.append(weather_data.iloc[3*i+1]['사상자수'] + weather_data.iloc[3*i+2]['사상자수'])\n",
    "hurt_people[1:] = hurt_people[1:]/hurt_people[0] * 100"
   ]
  },
  {
   "cell_type": "code",
   "execution_count": 33,
   "metadata": {},
   "outputs": [],
   "source": [
    "plt.close()\n",
    "labels = ['맑음','흐림','비','','','']\n",
    "ratio = hurt_people[1:]\n",
    "colors = [ 'orangered','gold','forestgreen','royalblue','magenta','darkorchid']\n",
    "explode = (0,0,0,0,0,0)\n",
    "plt.pie(ratio, labels=labels, colors= colors, autopct='%1.1f%%', shadow=True, explode = explode, startangle=90)\n",
    "#plt.show()\n",
    "plt.savefig('weather2016pie.png')\n",
    "#파이차트에는 다 표시 안했음. 비어있는 부분에 들어가는 기상은 반시계 방향으로 안개, 눈 , 기타 순임."
   ]
  },
  {
   "cell_type": "code",
   "execution_count": 26,
   "metadata": {},
   "outputs": [
    {
     "data": {
      "text/html": [
       "<div>\n",
       "<style>\n",
       "    .dataframe thead tr:only-child th {\n",
       "        text-align: right;\n",
       "    }\n",
       "\n",
       "    .dataframe thead th {\n",
       "        text-align: left;\n",
       "    }\n",
       "\n",
       "    .dataframe tbody tr th {\n",
       "        vertical-align: top;\n",
       "    }\n",
       "</style>\n",
       "<table border=\"1\" class=\"dataframe\">\n",
       "  <thead>\n",
       "    <tr style=\"text-align: right;\">\n",
       "      <th></th>\n",
       "      <th>날씨</th>\n",
       "      <th>사상여부</th>\n",
       "      <th>사상자수</th>\n",
       "    </tr>\n",
       "  </thead>\n",
       "  <tbody>\n",
       "    <tr>\n",
       "      <th>0</th>\n",
       "      <td>합계</td>\n",
       "      <td>발생건수</td>\n",
       "      <td>223552.0</td>\n",
       "    </tr>\n",
       "    <tr>\n",
       "      <th>1</th>\n",
       "      <td>합계</td>\n",
       "      <td>사망자수</td>\n",
       "      <td>4762.0</td>\n",
       "    </tr>\n",
       "    <tr>\n",
       "      <th>2</th>\n",
       "      <td>합계</td>\n",
       "      <td>부상자수</td>\n",
       "      <td>337497.0</td>\n",
       "    </tr>\n",
       "    <tr>\n",
       "      <th>3</th>\n",
       "      <td>맑음</td>\n",
       "      <td>발생건수</td>\n",
       "      <td>192007.0</td>\n",
       "    </tr>\n",
       "    <tr>\n",
       "      <th>4</th>\n",
       "      <td>맑음</td>\n",
       "      <td>사망자수</td>\n",
       "      <td>3825.0</td>\n",
       "    </tr>\n",
       "    <tr>\n",
       "      <th>5</th>\n",
       "      <td>맑음</td>\n",
       "      <td>부상자수</td>\n",
       "      <td>288297.0</td>\n",
       "    </tr>\n",
       "    <tr>\n",
       "      <th>6</th>\n",
       "      <td>흐림</td>\n",
       "      <td>발생건수</td>\n",
       "      <td>9682.0</td>\n",
       "    </tr>\n",
       "    <tr>\n",
       "      <th>7</th>\n",
       "      <td>흐림</td>\n",
       "      <td>사망자수</td>\n",
       "      <td>364.0</td>\n",
       "    </tr>\n",
       "    <tr>\n",
       "      <th>8</th>\n",
       "      <td>흐림</td>\n",
       "      <td>부상자수</td>\n",
       "      <td>14805.0</td>\n",
       "    </tr>\n",
       "    <tr>\n",
       "      <th>9</th>\n",
       "      <td>비</td>\n",
       "      <td>발생건수</td>\n",
       "      <td>17456.0</td>\n",
       "    </tr>\n",
       "    <tr>\n",
       "      <th>10</th>\n",
       "      <td>비</td>\n",
       "      <td>사망자수</td>\n",
       "      <td>460.0</td>\n",
       "    </tr>\n",
       "    <tr>\n",
       "      <th>11</th>\n",
       "      <td>비</td>\n",
       "      <td>부상자수</td>\n",
       "      <td>27657.0</td>\n",
       "    </tr>\n",
       "    <tr>\n",
       "      <th>12</th>\n",
       "      <td>안개</td>\n",
       "      <td>발생건수</td>\n",
       "      <td>347.0</td>\n",
       "    </tr>\n",
       "    <tr>\n",
       "      <th>13</th>\n",
       "      <td>안개</td>\n",
       "      <td>사망자수</td>\n",
       "      <td>26.0</td>\n",
       "    </tr>\n",
       "    <tr>\n",
       "      <th>14</th>\n",
       "      <td>안개</td>\n",
       "      <td>부상자수</td>\n",
       "      <td>602.0</td>\n",
       "    </tr>\n",
       "    <tr>\n",
       "      <th>15</th>\n",
       "      <td>눈</td>\n",
       "      <td>발생건수</td>\n",
       "      <td>1988.0</td>\n",
       "    </tr>\n",
       "    <tr>\n",
       "      <th>16</th>\n",
       "      <td>눈</td>\n",
       "      <td>사망자수</td>\n",
       "      <td>51.0</td>\n",
       "    </tr>\n",
       "    <tr>\n",
       "      <th>17</th>\n",
       "      <td>눈</td>\n",
       "      <td>부상자수</td>\n",
       "      <td>3299.0</td>\n",
       "    </tr>\n",
       "    <tr>\n",
       "      <th>18</th>\n",
       "      <td>기타/불명</td>\n",
       "      <td>발생건수</td>\n",
       "      <td>2072.0</td>\n",
       "    </tr>\n",
       "    <tr>\n",
       "      <th>19</th>\n",
       "      <td>기타/불명</td>\n",
       "      <td>사망자수</td>\n",
       "      <td>36.0</td>\n",
       "    </tr>\n",
       "    <tr>\n",
       "      <th>20</th>\n",
       "      <td>기타/불명</td>\n",
       "      <td>부상자수</td>\n",
       "      <td>2837.0</td>\n",
       "    </tr>\n",
       "  </tbody>\n",
       "</table>\n",
       "</div>"
      ],
      "text/plain": [
       "       날씨  사상여부      사상자수\n",
       "0      합계  발생건수  223552.0\n",
       "1      합계  사망자수    4762.0\n",
       "2      합계  부상자수  337497.0\n",
       "3      맑음  발생건수  192007.0\n",
       "4      맑음  사망자수    3825.0\n",
       "5      맑음  부상자수  288297.0\n",
       "6      흐림  발생건수    9682.0\n",
       "7      흐림  사망자수     364.0\n",
       "8      흐림  부상자수   14805.0\n",
       "9       비  발생건수   17456.0\n",
       "10      비  사망자수     460.0\n",
       "11      비  부상자수   27657.0\n",
       "12     안개  발생건수     347.0\n",
       "13     안개  사망자수      26.0\n",
       "14     안개  부상자수     602.0\n",
       "15      눈  발생건수    1988.0\n",
       "16      눈  사망자수      51.0\n",
       "17      눈  부상자수    3299.0\n",
       "18  기타/불명  발생건수    2072.0\n",
       "19  기타/불명  사망자수      36.0\n",
       "20  기타/불명  부상자수    2837.0"
      ]
     },
     "execution_count": 26,
     "metadata": {},
     "output_type": "execute_result"
    }
   ],
   "source": [
    "weather_data"
   ]
  },
  {
   "cell_type": "code",
   "execution_count": null,
   "metadata": {
    "collapsed": true
   },
   "outputs": [],
   "source": []
  }
 ],
 "metadata": {
  "kernelspec": {
   "display_name": "Python [default]",
   "language": "python",
   "name": "python3"
  },
  "language_info": {
   "codemirror_mode": {
    "name": "ipython",
    "version": 3
   },
   "file_extension": ".py",
   "mimetype": "text/x-python",
   "name": "python",
   "nbconvert_exporter": "python",
   "pygments_lexer": "ipython3",
   "version": "3.5.2"
  }
 },
 "nbformat": 4,
 "nbformat_minor": 1
}
