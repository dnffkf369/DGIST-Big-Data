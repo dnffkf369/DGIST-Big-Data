{
 "cells": [
  {
   "cell_type": "code",
   "execution_count": 24,
   "metadata": {
    "collapsed": false
   },
   "outputs": [],
   "source": [
    "import pandas as pd\n",
    "import matplotlib\n",
    "import matplotlib.pyplot as plt\n",
    "import numpy as np"
   ]
  },
  {
   "cell_type": "code",
   "execution_count": 25,
   "metadata": {
    "collapsed": false
   },
   "outputs": [],
   "source": [
    "# matplotlib에서 한글 사용하기\n",
    "from matplotlib import font_manager, rc\n",
    "font_name = font_manager.FontProperties(fname=\"c:/Windows/Fonts/malgun.ttf\").get_name()\n",
    "rc('font', family=font_name)"
   ]
  },
  {
   "cell_type": "code",
   "execution_count": 106,
   "metadata": {
    "collapsed": false
   },
   "outputs": [
    {
     "data": {
      "text/html": [
       "<div>\n",
       "<table border=\"1\" class=\"dataframe\">\n",
       "  <thead>\n",
       "    <tr style=\"text-align: right;\">\n",
       "      <th></th>\n",
       "      <th>날짜</th>\n",
       "      <th>요일구분</th>\n",
       "      <th>맑음</th>\n",
       "      <th>흐림</th>\n",
       "      <th>비</th>\n",
       "      <th>안개</th>\n",
       "      <th>눈</th>\n",
       "      <th>기타</th>\n",
       "      <th>미분류</th>\n",
       "    </tr>\n",
       "  </thead>\n",
       "  <tbody>\n",
       "    <tr>\n",
       "      <th>0</th>\n",
       "      <td>2014-01-01</td>\n",
       "      <td>수요일</td>\n",
       "      <td>531</td>\n",
       "      <td>11</td>\n",
       "      <td>3</td>\n",
       "      <td>-</td>\n",
       "      <td>1</td>\n",
       "      <td>471</td>\n",
       "      <td>1000</td>\n",
       "    </tr>\n",
       "    <tr>\n",
       "      <th>1</th>\n",
       "      <td>2014-01-02</td>\n",
       "      <td>목요일</td>\n",
       "      <td>627</td>\n",
       "      <td>9</td>\n",
       "      <td>4</td>\n",
       "      <td>1</td>\n",
       "      <td>-</td>\n",
       "      <td>643</td>\n",
       "      <td>1411</td>\n",
       "    </tr>\n",
       "    <tr>\n",
       "      <th>2</th>\n",
       "      <td>2014-01-03</td>\n",
       "      <td>금요일</td>\n",
       "      <td>673</td>\n",
       "      <td>22</td>\n",
       "      <td>3</td>\n",
       "      <td>1</td>\n",
       "      <td>3</td>\n",
       "      <td>656</td>\n",
       "      <td>1371</td>\n",
       "    </tr>\n",
       "    <tr>\n",
       "      <th>3</th>\n",
       "      <td>2014-01-04</td>\n",
       "      <td>토요일</td>\n",
       "      <td>629</td>\n",
       "      <td>14</td>\n",
       "      <td>12</td>\n",
       "      <td>-</td>\n",
       "      <td>15</td>\n",
       "      <td>580</td>\n",
       "      <td>1269</td>\n",
       "    </tr>\n",
       "    <tr>\n",
       "      <th>4</th>\n",
       "      <td>2014-01-05</td>\n",
       "      <td>일요일</td>\n",
       "      <td>442</td>\n",
       "      <td>11</td>\n",
       "      <td>7</td>\n",
       "      <td>1</td>\n",
       "      <td>2</td>\n",
       "      <td>407</td>\n",
       "      <td>918</td>\n",
       "    </tr>\n",
       "  </tbody>\n",
       "</table>\n",
       "</div>"
      ],
      "text/plain": [
       "          날짜 요일구분   맑음  흐림   비 안개   눈   기타   미분류\n",
       "0 2014-01-01  수요일  531  11   3  -   1  471  1000\n",
       "1 2014-01-02  목요일  627   9   4  1   -  643  1411\n",
       "2 2014-01-03  금요일  673  22   3  1   3  656  1371\n",
       "3 2014-01-04  토요일  629  14  12  -  15  580  1269\n",
       "4 2014-01-05  일요일  442  11   7  1   2  407   918"
      ]
     },
     "execution_count": 106,
     "metadata": {},
     "output_type": "execute_result"
    }
   ],
   "source": [
    "df.head()"
   ]
  },
  {
   "cell_type": "code",
   "execution_count": 110,
   "metadata": {
    "collapsed": false
   },
   "outputs": [],
   "source": [
    "df = pd.read_excel('2014년 기상.xlsx')\n",
    "# '-'문자 0으로 바꾸기\n",
    "df['날짜'] = df['날짜'].apply(lambda x: pd.to_datetime(str(x), format='%Y%m%d'))\n",
    "df['맑음'] = pd.to_numeric(df.맑음.astype(str).replace('-','0'),errors='coerce').fillna(0).astype(int)\n",
    "df['흐림'] = pd.to_numeric(df.흐림.astype(str).replace('-','0'),errors='coerce').fillna(0).astype(int)\n",
    "df['비'] = pd.to_numeric(df.비.astype(str).replace('-','0'),errors='coerce').fillna(0).astype(int)\n",
    "df['안개'] = pd.to_numeric(df.안개.astype(str).replace('-','0'),errors='coerce').fillna(0).astype(int)\n",
    "df['눈'] = pd.to_numeric(df.눈.astype(str).replace('-','0'),errors='coerce').fillna(0).astype(int)"
   ]
  },
  {
   "cell_type": "code",
   "execution_count": 111,
   "metadata": {
    "collapsed": false
   },
   "outputs": [
    {
     "data": {
      "text/html": [
       "<div>\n",
       "<table border=\"1\" class=\"dataframe\">\n",
       "  <thead>\n",
       "    <tr style=\"text-align: right;\">\n",
       "      <th></th>\n",
       "      <th>날짜</th>\n",
       "      <th>요일구분</th>\n",
       "      <th>맑음</th>\n",
       "      <th>흐림</th>\n",
       "      <th>비</th>\n",
       "      <th>안개</th>\n",
       "      <th>눈</th>\n",
       "      <th>기타</th>\n",
       "      <th>미분류</th>\n",
       "    </tr>\n",
       "  </thead>\n",
       "  <tbody>\n",
       "    <tr>\n",
       "      <th>0</th>\n",
       "      <td>2014-01-01</td>\n",
       "      <td>수요일</td>\n",
       "      <td>531</td>\n",
       "      <td>11</td>\n",
       "      <td>3</td>\n",
       "      <td>0</td>\n",
       "      <td>1</td>\n",
       "      <td>471</td>\n",
       "      <td>1000</td>\n",
       "    </tr>\n",
       "    <tr>\n",
       "      <th>1</th>\n",
       "      <td>2014-01-02</td>\n",
       "      <td>목요일</td>\n",
       "      <td>627</td>\n",
       "      <td>9</td>\n",
       "      <td>4</td>\n",
       "      <td>1</td>\n",
       "      <td>0</td>\n",
       "      <td>643</td>\n",
       "      <td>1411</td>\n",
       "    </tr>\n",
       "    <tr>\n",
       "      <th>2</th>\n",
       "      <td>2014-01-03</td>\n",
       "      <td>금요일</td>\n",
       "      <td>673</td>\n",
       "      <td>22</td>\n",
       "      <td>3</td>\n",
       "      <td>1</td>\n",
       "      <td>3</td>\n",
       "      <td>656</td>\n",
       "      <td>1371</td>\n",
       "    </tr>\n",
       "    <tr>\n",
       "      <th>3</th>\n",
       "      <td>2014-01-04</td>\n",
       "      <td>토요일</td>\n",
       "      <td>629</td>\n",
       "      <td>14</td>\n",
       "      <td>12</td>\n",
       "      <td>0</td>\n",
       "      <td>15</td>\n",
       "      <td>580</td>\n",
       "      <td>1269</td>\n",
       "    </tr>\n",
       "    <tr>\n",
       "      <th>4</th>\n",
       "      <td>2014-01-05</td>\n",
       "      <td>일요일</td>\n",
       "      <td>442</td>\n",
       "      <td>11</td>\n",
       "      <td>7</td>\n",
       "      <td>1</td>\n",
       "      <td>2</td>\n",
       "      <td>407</td>\n",
       "      <td>918</td>\n",
       "    </tr>\n",
       "  </tbody>\n",
       "</table>\n",
       "</div>"
      ],
      "text/plain": [
       "          날짜 요일구분   맑음  흐림   비  안개   눈   기타   미분류\n",
       "0 2014-01-01  수요일  531  11   3   0   1  471  1000\n",
       "1 2014-01-02  목요일  627   9   4   1   0  643  1411\n",
       "2 2014-01-03  금요일  673  22   3   1   3  656  1371\n",
       "3 2014-01-04  토요일  629  14  12   0  15  580  1269\n",
       "4 2014-01-05  일요일  442  11   7   1   2  407   918"
      ]
     },
     "execution_count": 111,
     "metadata": {},
     "output_type": "execute_result"
    }
   ],
   "source": [
    "df.head()"
   ]
  },
  {
   "cell_type": "code",
   "execution_count": 112,
   "metadata": {
    "collapsed": false
   },
   "outputs": [],
   "source": [
    "# 그래프 그리기\n",
    "df.plot(x = '날짜', y=['맑음','흐림','비','안개','눈'])\n",
    "plt.show()"
   ]
  }
 ],
 "metadata": {
  "kernelspec": {
   "display_name": "Python 3",
   "language": "python",
   "name": "python3"
  },
  "language_info": {
   "codemirror_mode": {
    "name": "ipython",
    "version": 3
   },
   "file_extension": ".py",
   "mimetype": "text/x-python",
   "name": "python",
   "nbconvert_exporter": "python",
   "pygments_lexer": "ipython3",
   "version": "3.5.1"
  }
 },
 "nbformat": 4,
 "nbformat_minor": 0
}
