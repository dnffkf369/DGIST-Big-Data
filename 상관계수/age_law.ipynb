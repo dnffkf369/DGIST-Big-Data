{
 "cells": [
  {
   "cell_type": "markdown",
   "metadata": {},
   "source": [
    "# 연령 - 법규위반 그래프"
   ]
  },
  {
   "cell_type": "code",
   "execution_count": 1,
   "metadata": {
    "collapsed": true
   },
   "outputs": [],
   "source": [
    "import pandas as pd\n",
    "import matplotlib\n",
    "import matplotlib.pyplot as plt\n",
    "import numpy as np"
   ]
  },
  {
   "cell_type": "code",
   "execution_count": 2,
   "metadata": {
    "collapsed": true
   },
   "outputs": [],
   "source": [
    "# matplotlib에서 한글 사용하기\n",
    "from matplotlib import font_manager, rc\n",
    "font_name = font_manager.FontProperties(fname=\"c:/Windows/Fonts/malgun.ttf\").get_name()\n",
    "rc('font', family=font_name)"
   ]
  },
  {
   "cell_type": "code",
   "execution_count": 3,
   "metadata": {
    "collapsed": true
   },
   "outputs": [],
   "source": [
    "age_total = pd.read_excel('age_total.xlsx')\n",
    "law_total = pd.read_excel('law_total.xlsx')"
   ]
  },
  {
   "cell_type": "code",
   "execution_count": 4,
   "metadata": {
    "collapsed": true
   },
   "outputs": [],
   "source": [
    "age_law = pd.merge(age_total, law_total, how = 'outer')"
   ]
  },
  {
   "cell_type": "code",
   "execution_count": 9,
   "metadata": {},
   "outputs": [
    {
     "data": {
      "text/plain": [
       "Index(['date', '요일구분', '중앙선침범', '신호위반', '안전거리미확보', '불법유턴', '과속', '안전운전불이행',\n",
       "       '교차로운행방법위반', '보행자보호의무위반', '차로위반', '직진우회전진행방해'],\n",
       "      dtype='object')"
      ]
     },
     "execution_count": 9,
     "metadata": {},
     "output_type": "execute_result"
    }
   ],
   "source": [
    "law_total.columns"
   ]
  },
  {
   "cell_type": "code",
   "execution_count": 10,
   "metadata": {},
   "outputs": [
    {
     "name": "stdout",
     "output_type": "stream",
     "text": [
      "x =  20세이하  y =  중앙선침범\n",
      "x =  20세이하  y =  신호위반\n",
      "x =  20세이하  y =  안전거리미확보\n",
      "x =  20세이하  y =  불법유턴\n",
      "x =  20세이하  y =  과속\n",
      "x =  20세이하  y =  안전운전불이행\n",
      "x =  20세이하  y =  교차로운행방법위반\n",
      "x =  20세이하  y =  보행자보호의무위반\n",
      "x =  20세이하  y =  차로위반\n",
      "x =  20세이하  y =  직진우회전진행방해\n",
      "x =  20세~30세  y =  중앙선침범\n",
      "x =  20세~30세  y =  신호위반\n",
      "x =  20세~30세  y =  안전거리미확보\n",
      "x =  20세~30세  y =  불법유턴\n",
      "x =  20세~30세  y =  과속\n",
      "x =  20세~30세  y =  안전운전불이행\n",
      "x =  20세~30세  y =  교차로운행방법위반\n",
      "x =  20세~30세  y =  보행자보호의무위반\n",
      "x =  20세~30세  y =  차로위반\n",
      "x =  20세~30세  y =  직진우회전진행방해\n",
      "x =  30세~40세  y =  중앙선침범\n",
      "x =  30세~40세  y =  신호위반\n"
     ]
    },
    {
     "name": "stderr",
     "output_type": "stream",
     "text": [
      "C:\\Users\\Administrator\\Anaconda3\\lib\\site-packages\\matplotlib\\pyplot.py:524: RuntimeWarning: More than 20 figures have been opened. Figures created through the pyplot interface (`matplotlib.pyplot.figure`) are retained until explicitly closed and may consume too much memory. (To control this warning, see the rcParam `figure.max_open_warning`).\n",
      "  max_open_warning, RuntimeWarning)\n"
     ]
    },
    {
     "name": "stdout",
     "output_type": "stream",
     "text": [
      "x =  30세~40세  y =  안전거리미확보\n",
      "x =  30세~40세  y =  불법유턴\n",
      "x =  30세~40세  y =  과속\n",
      "x =  30세~40세  y =  안전운전불이행\n",
      "x =  30세~40세  y =  교차로운행방법위반\n",
      "x =  30세~40세  y =  보행자보호의무위반\n",
      "x =  30세~40세  y =  차로위반\n",
      "x =  30세~40세  y =  직진우회전진행방해\n",
      "x =  40세~50세  y =  중앙선침범\n",
      "x =  40세~50세  y =  신호위반\n",
      "x =  40세~50세  y =  안전거리미확보\n",
      "x =  40세~50세  y =  불법유턴\n",
      "x =  40세~50세  y =  과속\n",
      "x =  40세~50세  y =  안전운전불이행\n",
      "x =  40세~50세  y =  교차로운행방법위반\n",
      "x =  40세~50세  y =  보행자보호의무위반\n",
      "x =  40세~50세  y =  차로위반\n",
      "x =  40세~50세  y =  직진우회전진행방해\n",
      "x =  50세~60세  y =  중앙선침범\n",
      "x =  50세~60세  y =  신호위반\n",
      "x =  50세~60세  y =  안전거리미확보\n",
      "x =  50세~60세  y =  불법유턴\n",
      "x =  50세~60세  y =  과속\n",
      "x =  50세~60세  y =  안전운전불이행\n",
      "x =  50세~60세  y =  교차로운행방법위반\n",
      "x =  50세~60세  y =  보행자보호의무위반\n",
      "x =  50세~60세  y =  차로위반\n",
      "x =  50세~60세  y =  직진우회전진행방해\n",
      "x =  60세~64세  y =  중앙선침범\n",
      "x =  60세~64세  y =  신호위반\n",
      "x =  60세~64세  y =  안전거리미확보\n",
      "x =  60세~64세  y =  불법유턴\n",
      "x =  60세~64세  y =  과속\n",
      "x =  60세~64세  y =  안전운전불이행\n",
      "x =  60세~64세  y =  교차로운행방법위반\n",
      "x =  60세~64세  y =  보행자보호의무위반\n",
      "x =  60세~64세  y =  차로위반\n",
      "x =  60세~64세  y =  직진우회전진행방해\n",
      "x =  65세이상  y =  중앙선침범\n",
      "x =  65세이상  y =  신호위반\n",
      "x =  65세이상  y =  안전거리미확보\n",
      "x =  65세이상  y =  불법유턴\n",
      "x =  65세이상  y =  과속\n",
      "x =  65세이상  y =  안전운전불이행\n",
      "x =  65세이상  y =  교차로운행방법위반\n",
      "x =  65세이상  y =  보행자보호의무위반\n",
      "x =  65세이상  y =  차로위반\n",
      "x =  65세이상  y =  직진우회전진행방해\n"
     ]
    }
   ],
   "source": [
    "age_col = ['20세이하', '20세~30세', '30세~40세', '40세~50세', '50세~60세',\n",
    "       '60세~64세', '65세이상']\n",
    "law_col = ['중앙선침범', '신호위반', '안전거리미확보', '불법유턴', '과속', '안전운전불이행',\n",
    "       '교차로운행방법위반', '보행자보호의무위반', '차로위반', '직진우회전진행방해']\n",
    "for a in age_col:\n",
    "    for l in law_col:\n",
    "        print('x = ',a, ' y = ',l)\n",
    "        age_law.plot(x=a, y=l, linestyle='', marker='o')\n",
    "        plt.xlim(age_law[a].min(),age_law[a].max())\n",
    "        plt.ylim(age_law[l].min(),age_law[l].max())\n",
    "        \n",
    "        plt.savefig(a+'_'+l+'.png')"
   ]
  },
  {
   "cell_type": "markdown",
   "metadata": {
    "collapsed": true
   },
   "source": [
    "# 연령-법규위반 상관계수 "
   ]
  },
  {
   "cell_type": "code",
   "execution_count": 7,
   "metadata": {
    "collapsed": true
   },
   "outputs": [],
   "source": [
    "age_col = ['20세이하', '20세~30세', '30세~40세', '40세~50세', '50세~60세',\n",
    "       '60세~64세', '65세이상']\n",
    "law_col = ['중앙선침범', '신호위반', '안전거리미확보', '불법유턴', '과속', '안전운전불이행',\n",
    "       '교차로운행방법위반', '보행자보호의무위반', '차로위반', '직진우회전진행방해']"
   ]
  },
  {
   "cell_type": "code",
   "execution_count": 19,
   "metadata": {},
   "outputs": [
    {
     "name": "stdout",
     "output_type": "stream",
     "text": [
      "20세이하 와 중앙선침범 의 상관계수 =  0.269451468342\n",
      "20세이하 와 신호위반 의 상관계수 =  0.274706104255\n",
      "20세이하 와 안전거리미확보 의 상관계수 =  0.215918589172\n",
      "20세이하 와 불법유턴 의 상관계수 =  nan\n",
      "20세이하 와 과속 의 상관계수 =  0.0634001108253\n",
      "20세이하 와 안전운전불이행 의 상관계수 =  0.507850169325\n",
      "20세이하 와 교차로운행방법위반 의 상관계수 =  0.383366121516\n",
      "20세이하 와 보행자보호의무위반 의 상관계수 =  0.236158679776\n",
      "20세이하 와 차로위반 의 상관계수 =  0.233219507024\n",
      "20세이하 와 직진우회전진행방해 의 상관계수 =  0.342240426316\n",
      "20세~30세 와 중앙선침범 의 상관계수 =  0.564430023335\n",
      "20세~30세 와 신호위반 의 상관계수 =  0.553260655331\n",
      "20세~30세 와 안전거리미확보 의 상관계수 =  0.751910838288\n",
      "20세~30세 와 불법유턴 의 상관계수 =  nan\n",
      "20세~30세 와 과속 의 상관계수 =  0.0417842082733\n",
      "20세~30세 와 안전운전불이행 의 상관계수 =  0.68787455476\n",
      "20세~30세 와 교차로운행방법위반 의 상관계수 =  0.458603270685\n",
      "20세~30세 와 보행자보호의무위반 의 상관계수 =  0.465357020646\n",
      "20세~30세 와 차로위반 의 상관계수 =  0.39320310413\n",
      "20세~30세 와 직진우회전진행방해 의 상관계수 =  0.37230849156\n",
      "30세~40세 와 중앙선침범 의 상관계수 =  0.622332066359\n",
      "30세~40세 와 신호위반 의 상관계수 =  0.651299866937\n",
      "30세~40세 와 안전거리미확보 의 상관계수 =  0.72774704821\n",
      "30세~40세 와 불법유턴 의 상관계수 =  nan\n",
      "30세~40세 와 과속 의 상관계수 =  -0.0417755409311\n",
      "30세~40세 와 안전운전불이행 의 상관계수 =  0.823133892663\n",
      "30세~40세 와 교차로운행방법위반 의 상관계수 =  0.536485428679\n",
      "30세~40세 와 보행자보호의무위반 의 상관계수 =  0.678488788086\n",
      "30세~40세 와 차로위반 의 상관계수 =  0.377281586053\n",
      "30세~40세 와 직진우회전진행방해 의 상관계수 =  0.355734189985\n",
      "40세~50세 와 중앙선침범 의 상관계수 =  0.600872850864\n",
      "40세~50세 와 신호위반 의 상관계수 =  0.651586719383\n",
      "40세~50세 와 안전거리미확보 의 상관계수 =  0.717091403155\n",
      "40세~50세 와 불법유턴 의 상관계수 =  nan\n",
      "40세~50세 와 과속 의 상관계수 =  -0.0409525881111\n",
      "40세~50세 와 안전운전불이행 의 상관계수 =  0.812526483825\n",
      "40세~50세 와 교차로운행방법위반 의 상관계수 =  0.558886336329\n",
      "40세~50세 와 보행자보호의무위반 의 상관계수 =  0.718780928817\n",
      "40세~50세 와 차로위반 의 상관계수 =  0.378101954063\n",
      "40세~50세 와 직진우회전진행방해 의 상관계수 =  0.381543598739\n",
      "50세~60세 와 중앙선침범 의 상관계수 =  0.54279815249\n",
      "50세~60세 와 신호위반 의 상관계수 =  0.633028467614\n",
      "50세~60세 와 안전거리미확보 의 상관계수 =  0.793407353511\n",
      "50세~60세 와 불법유턴 의 상관계수 =  nan\n",
      "50세~60세 와 과속 의 상관계수 =  -0.0102708184193\n",
      "50세~60세 와 안전운전불이행 의 상관계수 =  0.765169405632\n",
      "50세~60세 와 교차로운행방법위반 의 상관계수 =  0.596739840256\n",
      "50세~60세 와 보행자보호의무위반 의 상관계수 =  0.698230620133\n",
      "50세~60세 와 차로위반 의 상관계수 =  0.425003238383\n",
      "50세~60세 와 직진우회전진행방해 의 상관계수 =  0.435502158923\n",
      "60세~64세 와 중앙선침범 의 상관계수 =  0.275152965571\n",
      "60세~64세 와 신호위반 의 상관계수 =  0.39809557008\n",
      "60세~64세 와 안전거리미확보 의 상관계수 =  0.83531605995\n",
      "60세~64세 와 불법유턴 의 상관계수 =  nan\n",
      "60세~64세 와 과속 의 상관계수 =  0.0374584494511\n",
      "60세~64세 와 안전운전불이행 의 상관계수 =  0.522445824004\n",
      "60세~64세 와 교차로운행방법위반 의 상관계수 =  0.557120013936\n",
      "60세~64세 와 보행자보호의무위반 의 상관계수 =  0.516975843616\n",
      "60세~64세 와 차로위반 의 상관계수 =  0.419676846521\n",
      "60세~64세 와 직진우회전진행방해 의 상관계수 =  0.438597506097\n",
      "65세이상 와 중앙선침범 의 상관계수 =  0.264469461993\n",
      "65세이상 와 신호위반 의 상관계수 =  0.407773824814\n",
      "65세이상 와 안전거리미확보 의 상관계수 =  0.745381678603\n",
      "65세이상 와 불법유턴 의 상관계수 =  nan\n",
      "65세이상 와 과속 의 상관계수 =  -0.00100529447652\n",
      "65세이상 와 안전운전불이행 의 상관계수 =  0.570848799839\n",
      "65세이상 와 교차로운행방법위반 의 상관계수 =  0.625690151795\n",
      "65세이상 와 보행자보호의무위반 의 상관계수 =  0.579952129197\n",
      "65세이상 와 차로위반 의 상관계수 =  0.432575671196\n",
      "65세이상 와 직진우회전진행방해 의 상관계수 =  0.494152429917\n"
     ]
    }
   ],
   "source": [
    "for a in age_col:\n",
    "    for l in law_col:\n",
    "        x = np.array(age_law[a])\n",
    "        y = np.array(age_law[l])\n",
    "        corrcoef = np.corrcoef(x,y)\n",
    "        print(a ,'와' ,l ,'의 상관계수 = ',corrcoef[0][1])"
   ]
  },
  {
   "cell_type": "code",
   "execution_count": 17,
   "metadata": {},
   "outputs": [
    {
     "data": {
      "text/plain": [
       "0.72774704821041658"
      ]
     },
     "execution_count": 17,
     "metadata": {},
     "output_type": "execute_result"
    }
   ],
   "source": [
    "corrcoef[0][1]"
   ]
  },
  {
   "cell_type": "code",
   "execution_count": null,
   "metadata": {
    "collapsed": true
   },
   "outputs": [],
   "source": []
  }
 ],
 "metadata": {
  "anaconda-cloud": {},
  "kernelspec": {
   "display_name": "Python [default]",
   "language": "python",
   "name": "python3"
  },
  "language_info": {
   "codemirror_mode": {
    "name": "ipython",
    "version": 3
   },
   "file_extension": ".py",
   "mimetype": "text/x-python",
   "name": "python",
   "nbconvert_exporter": "python",
   "pygments_lexer": "ipython3",
   "version": "3.5.2"
  }
 },
 "nbformat": 4,
 "nbformat_minor": 1
}
