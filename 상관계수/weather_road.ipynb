{
 "cells": [
  {
   "cell_type": "markdown",
   "metadata": {},
   "source": [
    "# 기상-도로형태 상관계수 "
   ]
  },
  {
   "cell_type": "code",
   "execution_count": 1,
   "metadata": {
    "collapsed": true
   },
   "outputs": [],
   "source": [
    "import pandas as pd\n",
    "import matplotlib\n",
    "import matplotlib.pyplot as plt\n",
    "import numpy as np"
   ]
  },
  {
   "cell_type": "code",
   "execution_count": 2,
   "metadata": {
    "collapsed": true
   },
   "outputs": [],
   "source": [
    "# matplotlib에서 한글 사용하기\n",
    "from matplotlib import font_manager, rc\n",
    "font_name = font_manager.FontProperties(fname=\"c:/Windows/Fonts/malgun.ttf\").get_name()\n",
    "rc('font', family=font_name)"
   ]
  },
  {
   "cell_type": "code",
   "execution_count": 3,
   "metadata": {
    "collapsed": true
   },
   "outputs": [],
   "source": [
    "weather_2014 = pd.read_excel('2014년 기상.xlsx')\n",
    "# '-'문자 0으로 바꾸기\n",
    "weather_2014['날짜'] = weather_2014['날짜'].apply(lambda x: pd.to_datetime(str(x), format='%Y%m%d'))\n",
    "weather_2014['맑음'] = pd.to_numeric(weather_2014.맑음.astype(str).replace('-','0'),errors='coerce').fillna(0).astype(int)\n",
    "weather_2014['흐림'] = pd.to_numeric(weather_2014.흐림.astype(str).replace('-','0'),errors='coerce').fillna(0).astype(int)\n",
    "weather_2014['비'] = pd.to_numeric(weather_2014.비.astype(str).replace('-','0'),errors='coerce').fillna(0).astype(int)\n",
    "weather_2014['안개'] = pd.to_numeric(weather_2014.안개.astype(str).replace('-','0'),errors='coerce').fillna(0).astype(int)\n",
    "weather_2014['눈'] = pd.to_numeric(weather_2014.눈.astype(str).replace('-','0'),errors='coerce').fillna(0).astype(int)\n",
    "del weather_2014['기타']\n",
    "del weather_2014['미분류']"
   ]
  },
  {
   "cell_type": "code",
   "execution_count": 4,
   "metadata": {
    "scrolled": true
   },
   "outputs": [],
   "source": [
    "weather_2015 = pd.read_excel('2015년 기상.xlsx')\n",
    "# '-'문자 0으로 바꾸기\n",
    "weather_2015['날짜'] = weather_2015['날짜'].apply(lambda x: pd.to_datetime(str(x), format='%Y%m%d'))\n",
    "weather_2015['맑음'] = pd.to_numeric(weather_2015.맑음.astype(str).replace('-','0'),errors='coerce').fillna(0).astype(int)\n",
    "weather_2015['흐림'] = pd.to_numeric(weather_2015.흐림.astype(str).replace('-','0'),errors='coerce').fillna(0).astype(int)\n",
    "weather_2015['비'] = pd.to_numeric(weather_2015.비.astype(str).replace('-','0'),errors='coerce').fillna(0).astype(int)\n",
    "weather_2015['안개'] = pd.to_numeric(weather_2015.안개.astype(str).replace('-','0'),errors='coerce').fillna(0).astype(int)\n",
    "weather_2015['눈'] = pd.to_numeric(weather_2015.눈.astype(str).replace('-','0'),errors='coerce').fillna(0).astype(int)\n",
    "del weather_2015['기타']\n",
    "del weather_2015['미분류']"
   ]
  },
  {
   "cell_type": "code",
   "execution_count": 5,
   "metadata": {
    "collapsed": true
   },
   "outputs": [],
   "source": [
    "weather_2016 = pd.read_excel('2016년 기상.xlsx')\n",
    "# '-'문자 0으로 바꾸기\n",
    "weather_2016['날짜'] = weather_2016['날짜'].apply(lambda x: pd.to_datetime(str(x), format='%Y%m%d'))\n",
    "weather_2016['맑음'] = pd.to_numeric(weather_2016.맑음.astype(str).replace('-','0'),errors='coerce').fillna(0).astype(int)\n",
    "weather_2016['흐림'] = pd.to_numeric(weather_2016.흐림.astype(str).replace('-','0'),errors='coerce').fillna(0).astype(int)\n",
    "weather_2016['비'] = pd.to_numeric(weather_2016.비.astype(str).replace('-','0'),errors='coerce').fillna(0).astype(int)\n",
    "weather_2016['안개'] = pd.to_numeric(weather_2016.안개.astype(str).replace('-','0'),errors='coerce').fillna(0).astype(int)\n",
    "weather_2016['눈'] = pd.to_numeric(weather_2016.눈.astype(str).replace('-','0'),errors='coerce').fillna(0).astype(int)\n",
    "del weather_2016['기타']\n",
    "del weather_2016['미분류']"
   ]
  },
  {
   "cell_type": "code",
   "execution_count": 6,
   "metadata": {
    "collapsed": true
   },
   "outputs": [],
   "source": [
    "weather_total = pd.merge(weather_2014, weather_2015, how='outer')\n",
    "weather_total = pd.merge(weather_total, weather_2016, how='outer')"
   ]
  },
  {
   "cell_type": "code",
   "execution_count": 7,
   "metadata": {},
   "outputs": [],
   "source": [
    "road_2014 = pd.read_excel('2014년 도로형태.xlsx')\n",
    "# '-'문자 0으로 바꾸기\n",
    "road_2014['날짜'] = road_2014['날짜'].apply(lambda x: pd.to_datetime(str(x), format='%Y%m%d'))\n",
    "road_2014['횡단보도부근'] = pd.to_numeric(road_2014.횡단보도부근.astype(str).replace('-','0'),errors='coerce').fillna(0).astype(int)\n",
    "road_2014['터널'] = pd.to_numeric(road_2014.터널.astype(str).replace('-','0'),errors='coerce').fillna(0).astype(int)\n",
    "road_2014['교량'] = pd.to_numeric(road_2014.교량.astype(str).replace('-','0'),errors='coerce').fillna(0).astype(int)\n",
    "road_2014['철길건널목'] = pd.to_numeric(road_2014.철길건널목.astype(str).replace('-','0'),errors='coerce').fillna(0).astype(int)"
   ]
  },
  {
   "cell_type": "code",
   "execution_count": 8,
   "metadata": {
    "collapsed": true
   },
   "outputs": [],
   "source": [
    "road_2015 = pd.read_excel('2015년 도로형태.xlsx')\n",
    "# '-'문자 0으로 바꾸기\n",
    "road_2015['날짜'] = road_2015['날짜'].apply(lambda x: pd.to_datetime(str(x), format='%Y%m%d'))\n",
    "road_2015['횡단보도부근'] = pd.to_numeric(road_2015.횡단보도부근.astype(str).replace('-','0'),errors='coerce').fillna(0).astype(int)\n",
    "road_2015['터널'] = pd.to_numeric(road_2015.터널.astype(str).replace('-','0'),errors='coerce').fillna(0).astype(int)\n",
    "road_2015['교량'] = pd.to_numeric(road_2015.교량.astype(str).replace('-','0'),errors='coerce').fillna(0).astype(int)\n",
    "road_2015['철길건널목'] = pd.to_numeric(road_2015.철길건널목.astype(str).replace('-','0'),errors='coerce').fillna(0).astype(int)"
   ]
  },
  {
   "cell_type": "code",
   "execution_count": 9,
   "metadata": {
    "collapsed": true
   },
   "outputs": [],
   "source": [
    "\n",
    "road_2016 = pd.read_excel('2016년 도로형태.xlsx')\n",
    "# '-'문자 0으로 바꾸기\n",
    "road_2016['날짜'] = road_2016['날짜'].apply(lambda x: pd.to_datetime(str(x), format='%Y%m%d'))\n",
    "road_2016['횡단보도부근'] = pd.to_numeric(road_2016.횡단보도부근.astype(str).replace('-','0'),errors='coerce').fillna(0).astype(int)\n",
    "road_2016['터널'] = pd.to_numeric(road_2016.터널.astype(str).replace('-','0'),errors='coerce').fillna(0).astype(int)\n",
    "road_2016['교량'] = pd.to_numeric(road_2016.교량.astype(str).replace('-','0'),errors='coerce').fillna(0).astype(int)\n",
    "road_2016['철길건널목'] = pd.to_numeric(road_2016.철길건널목.astype(str).replace('-','0'),errors='coerce').fillna(0).astype(int)"
   ]
  },
  {
   "cell_type": "code",
   "execution_count": 10,
   "metadata": {},
   "outputs": [],
   "source": [
    "\n",
    "road_total = pd.merge(road_2014, road_2015, how='outer')\n",
    "road_total = pd.merge(road_total, road_2016, how='outer')"
   ]
  },
  {
   "cell_type": "code",
   "execution_count": 11,
   "metadata": {},
   "outputs": [],
   "source": [
    "weather_road = pd.merge(weather_total,road_total,how='outer')"
   ]
  },
  {
   "cell_type": "code",
   "execution_count": 21,
   "metadata": {},
   "outputs": [
    {
     "name": "stdout",
     "output_type": "stream",
     "text": [
      "맑음 와 교차로안 의 상관계수 =  0.462432650505\n",
      "맑음 와 교차로부근 의 상관계수 =  0.365853268027\n",
      "맑음 와 횡단보도상 의 상관계수 =  0.275138471839\n",
      "맑음 와 횡단보도부근 의 상관계수 =  0.162846369786\n",
      "맑음 와 터널 의 상관계수 =  0.177793311738\n",
      "맑음 와 교량 의 상관계수 =  0.0686798822775\n",
      "맑음 와 철길건널목 의 상관계수 =  -0.000869413701615\n",
      "흐림 와 교차로안 의 상관계수 =  0.228988334455\n",
      "흐림 와 교차로부근 의 상관계수 =  0.281070748531\n",
      "흐림 와 횡단보도상 의 상관계수 =  0.226408941919\n",
      "흐림 와 횡단보도부근 의 상관계수 =  0.0813836922211\n",
      "흐림 와 터널 의 상관계수 =  -0.0239796857306\n",
      "흐림 와 교량 의 상관계수 =  0.142295429904\n",
      "흐림 와 철길건널목 의 상관계수 =  0.0173812544965\n",
      "비 와 교차로안 의 상관계수 =  0.313583276733\n",
      "비 와 교차로부근 의 상관계수 =  0.347462853469\n",
      "비 와 횡단보도상 의 상관계수 =  0.243000126911\n",
      "비 와 횡단보도부근 의 상관계수 =  0.141174081292\n",
      "비 와 터널 의 상관계수 =  -0.0324940402041\n",
      "비 와 교량 의 상관계수 =  0.0921300372217\n",
      "비 와 철길건널목 의 상관계수 =  0.0351323132211\n",
      "안개 와 교차로안 의 상관계수 =  0.178648804849\n",
      "안개 와 교차로부근 의 상관계수 =  0.159505752039\n",
      "안개 와 횡단보도상 의 상관계수 =  0.130071778765\n",
      "안개 와 횡단보도부근 의 상관계수 =  0.0531124308015\n",
      "안개 와 터널 의 상관계수 =  0.007412476631\n",
      "안개 와 교량 의 상관계수 =  0.113887540668\n",
      "안개 와 철길건널목 의 상관계수 =  -0.00508830688966\n",
      "눈 와 교차로안 의 상관계수 =  0.0612457073467\n",
      "눈 와 교차로부근 의 상관계수 =  0.0307421661732\n",
      "눈 와 횡단보도상 의 상관계수 =  0.0762119309714\n",
      "눈 와 횡단보도부근 의 상관계수 =  -0.0663803798849\n",
      "눈 와 터널 의 상관계수 =  0.0233749644112\n",
      "눈 와 교량 의 상관계수 =  0.195874402718\n",
      "눈 와 철길건널목 의 상관계수 =  0.0134784313293\n"
     ]
    }
   ],
   "source": [
    "w_col = ['맑음','흐림','비','안개','눈']\n",
    "v_col = ['교차로안', '교차로부근', '횡단보도상', '횡단보도부근', '터널', '교량', '철길건널목']\n",
    "for w in w_col:\n",
    "    for v in v_col:\n",
    "        x = np.array(weather_road[w])\n",
    "        y = np.array(weather_road[v])\n",
    "        corrcoef = np.corrcoef(x,y)\n",
    "        print(w ,'와' ,v ,'의 상관계수 = ',corrcoef[0][1])"
   ]
  },
  {
   "cell_type": "code",
   "execution_count": null,
   "metadata": {},
   "outputs": [],
   "source": []
  },
  {
   "cell_type": "code",
   "execution_count": null,
   "metadata": {},
   "outputs": [],
   "source": []
  },
  {
   "cell_type": "code",
   "execution_count": null,
   "metadata": {},
   "outputs": [],
   "source": []
  },
  {
   "cell_type": "code",
   "execution_count": null,
   "metadata": {
    "collapsed": true
   },
   "outputs": [],
   "source": []
  }
 ],
 "metadata": {
  "kernelspec": {
   "display_name": "Python [default]",
   "language": "python",
   "name": "python3"
  },
  "language_info": {
   "codemirror_mode": {
    "name": "ipython",
    "version": 3
   },
   "file_extension": ".py",
   "mimetype": "text/x-python",
   "name": "python",
   "nbconvert_exporter": "python",
   "pygments_lexer": "ipython3",
   "version": "3.5.2"
  }
 },
 "nbformat": 4,
 "nbformat_minor": 1
}
