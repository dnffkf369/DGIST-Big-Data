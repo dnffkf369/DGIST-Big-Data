{
 "cells": [
  {
   "cell_type": "code",
   "execution_count": 134,
   "metadata": {
    "collapsed": true
   },
   "outputs": [],
   "source": [
    "import pandas as pd\n",
    "import numpy as np\n",
    "import matplotlib.pyplot as plt"
   ]
  },
  {
   "cell_type": "code",
   "execution_count": 135,
   "metadata": {
    "collapsed": true
   },
   "outputs": [],
   "source": [
    "# matplotlib에서 한글 사용하기\n",
    "from matplotlib import font_manager, rc\n",
    "font_name = font_manager.FontProperties(fname=\"c:/Windows/Fonts/malgun.ttf\").get_name()\n",
    "rc('font', family=font_name)"
   ]
  },
  {
   "cell_type": "code",
   "execution_count": 136,
   "metadata": {
    "collapsed": false
   },
   "outputs": [],
   "source": [
    "df14 = pd.read_excel('기상별 도로형태별 2014.xls')\n",
    "df15 = pd.read_excel('기상별 도로형태별 2015.xls')\n",
    "df16 = pd.read_excel('기상별 도로형태별 2016.xls')"
   ]
  },
  {
   "cell_type": "code",
   "execution_count": 137,
   "metadata": {
    "collapsed": false
   },
   "outputs": [],
   "source": [
    "df14.columns = df14.iloc[1,:]\n",
    "df15.columns = df15.iloc[1,:]\n",
    "df16.columns = df16.iloc[1,:]\n",
    "df14 = df14.drop(0)\n",
    "df15 = df15.drop(0)\n",
    "df16 = df16.drop(0)"
   ]
  },
  {
   "cell_type": "code",
   "execution_count": 138,
   "metadata": {
    "collapsed": false
   },
   "outputs": [],
   "source": [
    "df14 = df14[df14['기준년도']=='발생건수']\n",
    "df15 = df15[df15['기준년도']=='발생건수']\n",
    "df16 = df16[df16['기준년도']=='발생건수']"
   ]
  },
  {
   "cell_type": "code",
   "execution_count": 139,
   "metadata": {
    "collapsed": false
   },
   "outputs": [],
   "source": [
    "for i in range(len(df14.columns)-3):\n",
    "    df14.iloc[:,i+3] = df14.iloc[:,i+3].astype(str).replace('-',0).fillna(0).astype(int)\n",
    "    df15.iloc[:,i+3] = df15.iloc[:,i+3].astype(str).replace('-',0).fillna(0).astype(int)\n",
    "    df16.iloc[:,i+3] = df16.iloc[:,i+3].astype(str).replace('-',0).fillna(0).astype(int)"
   ]
  },
  {
   "cell_type": "code",
   "execution_count": 140,
   "metadata": {
    "collapsed": false
   },
   "outputs": [],
   "source": [
    "df_sum = df14.copy()"
   ]
  },
  {
   "cell_type": "code",
   "execution_count": 141,
   "metadata": {
    "collapsed": true
   },
   "outputs": [],
   "source": [
    "for i in range(len(df_sum.columns)-3):\n",
    "    df_sum.iloc[:,i+3] = df14.iloc[:,i+3]+df15.iloc[:,i+3]+df16.iloc[:,i+3]"
   ]
  },
  {
   "cell_type": "code",
   "execution_count": 142,
   "metadata": {
    "collapsed": false
   },
   "outputs": [],
   "source": [
    "df = df_sum.drop(['기준년도','기타','합계'],axis=1)\n",
    "df = df.drop([2,51,44])"
   ]
  },
  {
   "cell_type": "code",
   "execution_count": 26,
   "metadata": {
    "collapsed": false
   },
   "outputs": [],
   "source": [
    "#절대값 그래프 그리기\n",
    "df.plot.bar(x='기상상태',stacked=True, rot = 0)\n",
    "plt.show()"
   ]
  },
  {
   "cell_type": "code",
   "execution_count": 159,
   "metadata": {
    "collapsed": false
   },
   "outputs": [],
   "source": [
    "df_per = df.copy()\n",
    "col_list = list(df_per)\n",
    "col_list.remove('기상상태')\n",
    "df_per['total'] = df_per[col_list].sum(axis=1)\n",
    "df_per[col_list] = df_per[col_list].div(df_per.total, axis='index')\n",
    "df_per = df_per.drop('total', axis=1)"
   ]
  },
  {
   "cell_type": "code",
   "execution_count": 158,
   "metadata": {
    "collapsed": false
   },
   "outputs": [],
   "source": [
    "#퍼센트 그래프 그리기\n",
    "df_per.plot.bar(x='기상상태',stacked=True, rot = 0)\n",
    "plt.show()"
   ]
  }
 ],
 "metadata": {
  "kernelspec": {
   "display_name": "Python 3",
   "language": "python",
   "name": "python3"
  },
  "language_info": {
   "codemirror_mode": {
    "name": "ipython",
    "version": 3
   },
   "file_extension": ".py",
   "mimetype": "text/x-python",
   "name": "python",
   "nbconvert_exporter": "python",
   "pygments_lexer": "ipython3",
   "version": "3.5.1"
  }
 },
 "nbformat": 4,
 "nbformat_minor": 2
}
