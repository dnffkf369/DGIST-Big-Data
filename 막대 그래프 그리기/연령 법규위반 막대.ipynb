{
 "cells": [
  {
   "cell_type": "code",
   "execution_count": 1,
   "metadata": {
    "collapsed": true
   },
   "outputs": [],
   "source": [
    "import pandas as pd\n",
    "import numpy as np\n",
    "import matplotlib.pyplot as plt"
   ]
  },
  {
   "cell_type": "code",
   "execution_count": 2,
   "metadata": {
    "collapsed": true
   },
   "outputs": [],
   "source": [
    "# matplotlib에서 한글 사용하기\n",
    "from matplotlib import font_manager, rc\n",
    "font_name = font_manager.FontProperties(fname=\"c:/Windows/Fonts/malgun.ttf\").get_name()\n",
    "rc('font', family=font_name)"
   ]
  },
  {
   "cell_type": "code",
   "execution_count": 3,
   "metadata": {
    "collapsed": false
   },
   "outputs": [],
   "source": [
    "df14 = pd.read_excel('연령별 법규위반별 2014.xls')\n",
    "df15 = pd.read_excel('연령별 법규위반별 2015.xls')\n",
    "df16 = pd.read_excel('연령별 법규위반별 2016.xls')"
   ]
  },
  {
   "cell_type": "code",
   "execution_count": 4,
   "metadata": {
    "collapsed": false
   },
   "outputs": [],
   "source": [
    "df14.columns = df14.iloc[0,:]\n",
    "df15.columns = df15.iloc[0,:]\n",
    "df16.columns = df16.iloc[0,:]\n",
    "df14 = df14.drop(0)\n",
    "df15 = df15.drop(0)\n",
    "df16 = df16.drop(0)"
   ]
  },
  {
   "cell_type": "code",
   "execution_count": 5,
   "metadata": {
    "collapsed": false
   },
   "outputs": [],
   "source": [
    "df14 = df14[df14['기준년도']=='발생건수']\n",
    "df15 = df15[df15['기준년도']=='발생건수']\n",
    "df16 = df16[df16['기준년도']=='발생건수']"
   ]
  },
  {
   "cell_type": "code",
   "execution_count": 6,
   "metadata": {
    "collapsed": false
   },
   "outputs": [],
   "source": [
    "for i in range(11):\n",
    "    df14.iloc[:,i+3] = df14.iloc[:,i+3].astype(str).replace('-',0).fillna(0).astype(int)\n",
    "    df15.iloc[:,i+3] = df15.iloc[:,i+3].astype(str).replace('-',0).fillna(0).astype(int)\n",
    "    df16.iloc[:,i+3] = df16.iloc[:,i+3].astype(str).replace('-',0).fillna(0).astype(int)"
   ]
  },
  {
   "cell_type": "code",
   "execution_count": 7,
   "metadata": {
    "collapsed": false
   },
   "outputs": [],
   "source": [
    "df_sum = df14.copy()"
   ]
  },
  {
   "cell_type": "code",
   "execution_count": 8,
   "metadata": {
    "collapsed": false
   },
   "outputs": [],
   "source": [
    "for i in range(len(df_sum.columns)-3):\n",
    "    df_sum.iloc[:,i+3] = df14.iloc[:,i+3]+df15.iloc[:,i+3]+df16.iloc[:,i+3]"
   ]
  },
  {
   "cell_type": "code",
   "execution_count": 11,
   "metadata": {
    "collapsed": false
   },
   "outputs": [],
   "source": [
    "df = df_sum.drop(['가해운전자 연령구분','기준년도','미분류','기타','합계'],axis=1)\n",
    "df.loc[:,'가해운전자 연령 대분류'] = df.loc[:,'가해운전자 연령 대분류'].str.replace('세이상','').str.replace('세이하','')"
   ]
  },
  {
   "cell_type": "code",
   "execution_count": 12,
   "metadata": {
    "collapsed": false
   },
   "outputs": [],
   "source": [
    "df = df.drop([1,15,22,36,50,64,78,92,106,113,120])"
   ]
  },
  {
   "cell_type": "code",
   "execution_count": 13,
   "metadata": {
    "collapsed": true
   },
   "outputs": [],
   "source": [
    "df.plot.bar(x='가해운전자 연령 대분류',stacked=True)\n",
    "plt.show()"
   ]
  },
  {
   "cell_type": "code",
   "execution_count": 16,
   "metadata": {
    "collapsed": false
   },
   "outputs": [],
   "source": [
    "df_per = df.copy()\n",
    "col_list = list(df_per)\n",
    "col_list.remove('가해운전자 연령 대분류')\n",
    "df_per['total'] = df_per[col_list].sum(axis=1)\n",
    "df_per[col_list] = df_per[col_list].div(df_per.total, axis='index')\n",
    "df_per = df_per.drop('total', axis=1)"
   ]
  },
  {
   "cell_type": "code",
   "execution_count": 20,
   "metadata": {
    "collapsed": false
   },
   "outputs": [],
   "source": [
    "df_per.plot.bar(x='가해운전자 연령 대분류',stacked=True, rot = 0).legend(bbox_to_anchor=(1.1, 0.85))\n",
    "# df_per.plot.bar(x='시간',stacked=True, rot = 0).legend(bbox_to_anchor=(1.1, 0.85))\n",
    "plt.show()"
   ]
  }
 ],
 "metadata": {
  "kernelspec": {
   "display_name": "Python 3",
   "language": "python",
   "name": "python3"
  },
  "language_info": {
   "codemirror_mode": {
    "name": "ipython",
    "version": 3
   },
   "file_extension": ".py",
   "mimetype": "text/x-python",
   "name": "python",
   "nbconvert_exporter": "python",
   "pygments_lexer": "ipython3",
   "version": "3.5.1"
  }
 },
 "nbformat": 4,
 "nbformat_minor": 2
}
