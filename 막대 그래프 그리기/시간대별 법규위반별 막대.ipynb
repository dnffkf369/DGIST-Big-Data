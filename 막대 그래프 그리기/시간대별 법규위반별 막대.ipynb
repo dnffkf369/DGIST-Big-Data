{
 "cells": [
  {
   "cell_type": "code",
   "execution_count": 1,
   "metadata": {
    "collapsed": true
   },
   "outputs": [],
   "source": [
    "import pandas as pd\n",
    "import numpy as np\n",
    "import matplotlib.pyplot as plt"
   ]
  },
  {
   "cell_type": "code",
   "execution_count": 2,
   "metadata": {
    "collapsed": true
   },
   "outputs": [],
   "source": [
    "# matplotlib에서 한글 사용하기\n",
    "from matplotlib import font_manager, rc\n",
    "font_name = font_manager.FontProperties(fname=\"c:/Windows/Fonts/malgun.ttf\").get_name()\n",
    "rc('font', family=font_name)"
   ]
  },
  {
   "cell_type": "code",
   "execution_count": 3,
   "metadata": {
    "collapsed": false
   },
   "outputs": [],
   "source": [
    "df14 = pd.read_excel('시간대별 법규위반별 2014.xls')\n",
    "df15 = pd.read_excel('시간대별 법규위반별 2015.xls')\n",
    "df16 = pd.read_excel('시간대별 법규위반별 2016.xls')"
   ]
  },
  {
   "cell_type": "code",
   "execution_count": 4,
   "metadata": {
    "collapsed": false
   },
   "outputs": [],
   "source": [
    "df14.columns = df14.iloc[0,:]\n",
    "df15.columns = df15.iloc[0,:]\n",
    "df16.columns = df16.iloc[0,:]\n",
    "df14 = df14.drop(0)\n",
    "df15 = df15.drop(0)\n",
    "df16 = df16.drop(0)"
   ]
  },
  {
   "cell_type": "code",
   "execution_count": 5,
   "metadata": {
    "collapsed": false
   },
   "outputs": [],
   "source": [
    "df14 = df14[df14['기준년도']=='발생건수']\n",
    "df15 = df15[df15['기준년도']=='발생건수']\n",
    "df16 = df16[df16['기준년도']=='발생건수']"
   ]
  },
  {
   "cell_type": "code",
   "execution_count": 6,
   "metadata": {
    "collapsed": false
   },
   "outputs": [],
   "source": [
    "for i in range(len(df14.columns)-3):\n",
    "    df14.iloc[:,i+3] = df14.iloc[:,i+3].astype(str).replace('-',0).fillna(0).astype(int)\n",
    "    df15.iloc[:,i+3] = df15.iloc[:,i+3].astype(str).replace('-',0).fillna(0).astype(int)\n",
    "    df16.iloc[:,i+3] = df16.iloc[:,i+3].astype(str).replace('-',0).fillna(0).astype(int)"
   ]
  },
  {
   "cell_type": "code",
   "execution_count": 17,
   "metadata": {
    "collapsed": false
   },
   "outputs": [],
   "source": [
    "df_sum = df14.copy()"
   ]
  },
  {
   "cell_type": "code",
   "execution_count": 18,
   "metadata": {
    "collapsed": false
   },
   "outputs": [],
   "source": [
    "for i in range(len(df_sum.columns)-3):\n",
    "    df_sum.iloc[:,i+3] = df14.iloc[:,i+3]+df15.iloc[:,i+3]+df16.iloc[:,i+3]"
   ]
  },
  {
   "cell_type": "code",
   "execution_count": 21,
   "metadata": {
    "collapsed": false
   },
   "outputs": [],
   "source": [
    "df = df_sum.drop(['기준년도','합계'],axis=1)\n",
    "df = df.drop([1,89,97])"
   ]
  },
  {
   "cell_type": "code",
   "execution_count": 22,
   "metadata": {
    "collapsed": false
   },
   "outputs": [
    {
     "data": {
      "text/html": [
       "<div>\n",
       "<table border=\"1\" class=\"dataframe\">\n",
       "  <thead>\n",
       "    <tr style=\"text-align: right;\">\n",
       "      <th></th>\n",
       "      <th>법규위반</th>\n",
       "      <th>0시~2시</th>\n",
       "      <th>2시~4시</th>\n",
       "      <th>4시~6시</th>\n",
       "      <th>6시~8시</th>\n",
       "      <th>8시~10시</th>\n",
       "      <th>10시~12시</th>\n",
       "      <th>12시~14시</th>\n",
       "      <th>14시~16시</th>\n",
       "      <th>16시~18시</th>\n",
       "      <th>18시~20시</th>\n",
       "      <th>20시~22시</th>\n",
       "      <th>22시~24시</th>\n",
       "    </tr>\n",
       "  </thead>\n",
       "  <tbody>\n",
       "    <tr>\n",
       "      <th>9</th>\n",
       "      <td>중앙선침범</td>\n",
       "      <td>2562</td>\n",
       "      <td>1345</td>\n",
       "      <td>1434</td>\n",
       "      <td>4162</td>\n",
       "      <td>6862</td>\n",
       "      <td>5980</td>\n",
       "      <td>6675</td>\n",
       "      <td>7186</td>\n",
       "      <td>7836</td>\n",
       "      <td>8166</td>\n",
       "      <td>5929</td>\n",
       "      <td>4425</td>\n",
       "    </tr>\n",
       "    <tr>\n",
       "      <th>17</th>\n",
       "      <td>신호위반</td>\n",
       "      <td>7744</td>\n",
       "      <td>4571</td>\n",
       "      <td>5493</td>\n",
       "      <td>11111</td>\n",
       "      <td>13237</td>\n",
       "      <td>10773</td>\n",
       "      <td>11042</td>\n",
       "      <td>11140</td>\n",
       "      <td>12304</td>\n",
       "      <td>15374</td>\n",
       "      <td>13349</td>\n",
       "      <td>11104</td>\n",
       "    </tr>\n",
       "    <tr>\n",
       "      <th>25</th>\n",
       "      <td>안전거리미확보</td>\n",
       "      <td>6426</td>\n",
       "      <td>2860</td>\n",
       "      <td>3413</td>\n",
       "      <td>22193</td>\n",
       "      <td>43747</td>\n",
       "      <td>36551</td>\n",
       "      <td>35726</td>\n",
       "      <td>42930</td>\n",
       "      <td>44586</td>\n",
       "      <td>48401</td>\n",
       "      <td>23940</td>\n",
       "      <td>13927</td>\n",
       "    </tr>\n",
       "    <tr>\n",
       "      <th>33</th>\n",
       "      <td>불법유턴</td>\n",
       "      <td>294</td>\n",
       "      <td>155</td>\n",
       "      <td>165</td>\n",
       "      <td>385</td>\n",
       "      <td>661</td>\n",
       "      <td>632</td>\n",
       "      <td>703</td>\n",
       "      <td>680</td>\n",
       "      <td>814</td>\n",
       "      <td>877</td>\n",
       "      <td>666</td>\n",
       "      <td>460</td>\n",
       "    </tr>\n",
       "    <tr>\n",
       "      <th>41</th>\n",
       "      <td>과속</td>\n",
       "      <td>252</td>\n",
       "      <td>189</td>\n",
       "      <td>139</td>\n",
       "      <td>146</td>\n",
       "      <td>151</td>\n",
       "      <td>107</td>\n",
       "      <td>124</td>\n",
       "      <td>135</td>\n",
       "      <td>128</td>\n",
       "      <td>192</td>\n",
       "      <td>151</td>\n",
       "      <td>208</td>\n",
       "    </tr>\n",
       "    <tr>\n",
       "      <th>49</th>\n",
       "      <td>안전운전불이행</td>\n",
       "      <td>33751</td>\n",
       "      <td>19420</td>\n",
       "      <td>18452</td>\n",
       "      <td>50239</td>\n",
       "      <td>98706</td>\n",
       "      <td>89988</td>\n",
       "      <td>94941</td>\n",
       "      <td>106874</td>\n",
       "      <td>116618</td>\n",
       "      <td>121809</td>\n",
       "      <td>80288</td>\n",
       "      <td>57891</td>\n",
       "    </tr>\n",
       "    <tr>\n",
       "      <th>57</th>\n",
       "      <td>교차로운행방법위반</td>\n",
       "      <td>2235</td>\n",
       "      <td>980</td>\n",
       "      <td>1091</td>\n",
       "      <td>3759</td>\n",
       "      <td>7615</td>\n",
       "      <td>6576</td>\n",
       "      <td>6931</td>\n",
       "      <td>7238</td>\n",
       "      <td>7950</td>\n",
       "      <td>8103</td>\n",
       "      <td>5205</td>\n",
       "      <td>3600</td>\n",
       "    </tr>\n",
       "    <tr>\n",
       "      <th>65</th>\n",
       "      <td>보행자보호의무위반</td>\n",
       "      <td>1240</td>\n",
       "      <td>572</td>\n",
       "      <td>764</td>\n",
       "      <td>2850</td>\n",
       "      <td>5566</td>\n",
       "      <td>4457</td>\n",
       "      <td>4621</td>\n",
       "      <td>5926</td>\n",
       "      <td>6857</td>\n",
       "      <td>8058</td>\n",
       "      <td>5362</td>\n",
       "      <td>2957</td>\n",
       "    </tr>\n",
       "    <tr>\n",
       "      <th>73</th>\n",
       "      <td>차로위반</td>\n",
       "      <td>597</td>\n",
       "      <td>287</td>\n",
       "      <td>282</td>\n",
       "      <td>807</td>\n",
       "      <td>1483</td>\n",
       "      <td>1436</td>\n",
       "      <td>1501</td>\n",
       "      <td>1613</td>\n",
       "      <td>1801</td>\n",
       "      <td>2006</td>\n",
       "      <td>1355</td>\n",
       "      <td>1066</td>\n",
       "    </tr>\n",
       "    <tr>\n",
       "      <th>81</th>\n",
       "      <td>직진우회전진행방해</td>\n",
       "      <td>726</td>\n",
       "      <td>361</td>\n",
       "      <td>418</td>\n",
       "      <td>1274</td>\n",
       "      <td>2605</td>\n",
       "      <td>2424</td>\n",
       "      <td>2414</td>\n",
       "      <td>2527</td>\n",
       "      <td>2798</td>\n",
       "      <td>2453</td>\n",
       "      <td>1603</td>\n",
       "      <td>1161</td>\n",
       "    </tr>\n",
       "  </tbody>\n",
       "</table>\n",
       "</div>"
      ],
      "text/plain": [
       "0        법규위반  0시~2시  2시~4시  4시~6시  6시~8시  8시~10시  10시~12시  12시~14시  14시~16시  \\\n",
       "9       중앙선침범   2562   1345   1434   4162    6862     5980     6675     7186   \n",
       "17       신호위반   7744   4571   5493  11111   13237    10773    11042    11140   \n",
       "25    안전거리미확보   6426   2860   3413  22193   43747    36551    35726    42930   \n",
       "33       불법유턴    294    155    165    385     661      632      703      680   \n",
       "41         과속    252    189    139    146     151      107      124      135   \n",
       "49    안전운전불이행  33751  19420  18452  50239   98706    89988    94941   106874   \n",
       "57  교차로운행방법위반   2235    980   1091   3759    7615     6576     6931     7238   \n",
       "65  보행자보호의무위반   1240    572    764   2850    5566     4457     4621     5926   \n",
       "73       차로위반    597    287    282    807    1483     1436     1501     1613   \n",
       "81  직진우회전진행방해    726    361    418   1274    2605     2424     2414     2527   \n",
       "\n",
       "0   16시~18시  18시~20시  20시~22시  22시~24시  \n",
       "9      7836     8166     5929     4425  \n",
       "17    12304    15374    13349    11104  \n",
       "25    44586    48401    23940    13927  \n",
       "33      814      877      666      460  \n",
       "41      128      192      151      208  \n",
       "49   116618   121809    80288    57891  \n",
       "57     7950     8103     5205     3600  \n",
       "65     6857     8058     5362     2957  \n",
       "73     1801     2006     1355     1066  \n",
       "81     2798     2453     1603     1161  "
      ]
     },
     "execution_count": 22,
     "metadata": {},
     "output_type": "execute_result"
    }
   ],
   "source": [
    "df"
   ]
  },
  {
   "cell_type": "code",
   "execution_count": 24,
   "metadata": {
    "collapsed": false
   },
   "outputs": [],
   "source": [
    "dfT = df.T.reset_index()"
   ]
  },
  {
   "cell_type": "code",
   "execution_count": 25,
   "metadata": {
    "collapsed": false
   },
   "outputs": [],
   "source": [
    "dfT.columns = dfT.iloc[0,:]\n",
    "dfT = dfT.drop(0)"
   ]
  },
  {
   "cell_type": "code",
   "execution_count": 26,
   "metadata": {
    "collapsed": false
   },
   "outputs": [],
   "source": [
    "dfT = dfT.rename(columns={\"법규위반\": \"시간\"})"
   ]
  },
  {
   "cell_type": "code",
   "execution_count": 58,
   "metadata": {
    "collapsed": false
   },
   "outputs": [],
   "source": [
    "dfT.plot.bar(x='시간',stacked=True, rot=0)\n",
    "plt.show()"
   ]
  },
  {
   "cell_type": "code",
   "execution_count": 27,
   "metadata": {
    "collapsed": false
   },
   "outputs": [
    {
     "data": {
      "text/html": [
       "<div>\n",
       "<table border=\"1\" class=\"dataframe\">\n",
       "  <thead>\n",
       "    <tr style=\"text-align: right;\">\n",
       "      <th></th>\n",
       "      <th>시간</th>\n",
       "      <th>중앙선침범</th>\n",
       "      <th>신호위반</th>\n",
       "      <th>안전거리미확보</th>\n",
       "      <th>불법유턴</th>\n",
       "      <th>과속</th>\n",
       "      <th>안전운전불이행</th>\n",
       "      <th>교차로운행방법위반</th>\n",
       "      <th>보행자보호의무위반</th>\n",
       "      <th>차로위반</th>\n",
       "      <th>직진우회전진행방해</th>\n",
       "    </tr>\n",
       "  </thead>\n",
       "  <tbody>\n",
       "    <tr>\n",
       "      <th>1</th>\n",
       "      <td>0시~2시</td>\n",
       "      <td>2562</td>\n",
       "      <td>7744</td>\n",
       "      <td>6426</td>\n",
       "      <td>294</td>\n",
       "      <td>252</td>\n",
       "      <td>33751</td>\n",
       "      <td>2235</td>\n",
       "      <td>1240</td>\n",
       "      <td>597</td>\n",
       "      <td>726</td>\n",
       "    </tr>\n",
       "    <tr>\n",
       "      <th>2</th>\n",
       "      <td>2시~4시</td>\n",
       "      <td>1345</td>\n",
       "      <td>4571</td>\n",
       "      <td>2860</td>\n",
       "      <td>155</td>\n",
       "      <td>189</td>\n",
       "      <td>19420</td>\n",
       "      <td>980</td>\n",
       "      <td>572</td>\n",
       "      <td>287</td>\n",
       "      <td>361</td>\n",
       "    </tr>\n",
       "    <tr>\n",
       "      <th>3</th>\n",
       "      <td>4시~6시</td>\n",
       "      <td>1434</td>\n",
       "      <td>5493</td>\n",
       "      <td>3413</td>\n",
       "      <td>165</td>\n",
       "      <td>139</td>\n",
       "      <td>18452</td>\n",
       "      <td>1091</td>\n",
       "      <td>764</td>\n",
       "      <td>282</td>\n",
       "      <td>418</td>\n",
       "    </tr>\n",
       "    <tr>\n",
       "      <th>4</th>\n",
       "      <td>6시~8시</td>\n",
       "      <td>4162</td>\n",
       "      <td>11111</td>\n",
       "      <td>22193</td>\n",
       "      <td>385</td>\n",
       "      <td>146</td>\n",
       "      <td>50239</td>\n",
       "      <td>3759</td>\n",
       "      <td>2850</td>\n",
       "      <td>807</td>\n",
       "      <td>1274</td>\n",
       "    </tr>\n",
       "    <tr>\n",
       "      <th>5</th>\n",
       "      <td>8시~10시</td>\n",
       "      <td>6862</td>\n",
       "      <td>13237</td>\n",
       "      <td>43747</td>\n",
       "      <td>661</td>\n",
       "      <td>151</td>\n",
       "      <td>98706</td>\n",
       "      <td>7615</td>\n",
       "      <td>5566</td>\n",
       "      <td>1483</td>\n",
       "      <td>2605</td>\n",
       "    </tr>\n",
       "  </tbody>\n",
       "</table>\n",
       "</div>"
      ],
      "text/plain": [
       "0      시간 중앙선침범   신호위반 안전거리미확보 불법유턴   과속 안전운전불이행 교차로운행방법위반 보행자보호의무위반  차로위반  \\\n",
       "1   0시~2시  2562   7744    6426  294  252   33751      2235      1240   597   \n",
       "2   2시~4시  1345   4571    2860  155  189   19420       980       572   287   \n",
       "3   4시~6시  1434   5493    3413  165  139   18452      1091       764   282   \n",
       "4   6시~8시  4162  11111   22193  385  146   50239      3759      2850   807   \n",
       "5  8시~10시  6862  13237   43747  661  151   98706      7615      5566  1483   \n",
       "\n",
       "0 직진우회전진행방해  \n",
       "1       726  \n",
       "2       361  \n",
       "3       418  \n",
       "4      1274  \n",
       "5      2605  "
      ]
     },
     "execution_count": 27,
     "metadata": {},
     "output_type": "execute_result"
    }
   ],
   "source": [
    "dfT.head()"
   ]
  },
  {
   "cell_type": "code",
   "execution_count": 29,
   "metadata": {
    "collapsed": false
   },
   "outputs": [],
   "source": [
    "df_per = dfT.copy()\n",
    "col_list = list(df_per)\n",
    "col_list.remove('시간')\n",
    "df_per['total'] = df_per[col_list].sum(axis=1)\n",
    "df_per[col_list] = df_per[col_list].div(df_per.total, axis='index')\n",
    "df_per = df_per.drop('total', axis=1)"
   ]
  },
  {
   "cell_type": "code",
   "execution_count": 39,
   "metadata": {
    "collapsed": false
   },
   "outputs": [],
   "source": [
    "df_per.plot.bar(x='시간',stacked=True, rot = 0).legend(bbox_to_anchor=(1.1, 0.85))\n",
    "\n",
    "plt.show()"
   ]
  }
 ],
 "metadata": {
  "kernelspec": {
   "display_name": "Python 3",
   "language": "python",
   "name": "python3"
  },
  "language_info": {
   "codemirror_mode": {
    "name": "ipython",
    "version": 3
   },
   "file_extension": ".py",
   "mimetype": "text/x-python",
   "name": "python",
   "nbconvert_exporter": "python",
   "pygments_lexer": "ipython3",
   "version": "3.5.1"
  }
 },
 "nbformat": 4,
 "nbformat_minor": 2
}
