{
 "cells": [
  {
   "cell_type": "code",
   "execution_count": 3,
   "metadata": {
    "collapsed": true
   },
   "outputs": [],
   "source": [
    "import pandas as pd\n",
    "import numpy as np\n",
    "import matplotlib.pyplot as plt"
   ]
  },
  {
   "cell_type": "code",
   "execution_count": 4,
   "metadata": {
    "collapsed": true
   },
   "outputs": [],
   "source": [
    "# matplotlib에서 한글 사용하기\n",
    "from matplotlib import font_manager, rc\n",
    "font_name = font_manager.FontProperties(fname=\"c:/Windows/Fonts/malgun.ttf\").get_name()\n",
    "rc('font', family=font_name)"
   ]
  },
  {
   "cell_type": "code",
   "execution_count": 5,
   "metadata": {
    "collapsed": false
   },
   "outputs": [],
   "source": [
    "df14 = pd.read_excel('차종별 도로형태별 2014.xls')\n",
    "df15 = pd.read_excel('차종별 도로형태별 2015.xls')\n",
    "df16 = pd.read_excel('차종별 도로형태별 2016.xls')"
   ]
  },
  {
   "cell_type": "code",
   "execution_count": 6,
   "metadata": {
    "collapsed": false
   },
   "outputs": [],
   "source": [
    "df14.columns = df14.iloc[1,:]\n",
    "df15.columns = df15.iloc[1,:]\n",
    "df16.columns = df16.iloc[1,:]\n",
    "df14 = df14.drop([0,1])\n",
    "df15 = df15.drop([0,1])\n",
    "df16 = df16.drop([0,1])"
   ]
  },
  {
   "cell_type": "code",
   "execution_count": 7,
   "metadata": {
    "collapsed": false
   },
   "outputs": [],
   "source": [
    "df14 = df14[df14['발생년도']=='발생건수']\n",
    "df15 = df15[df15['발생년도']=='발생건수']\n",
    "df16 = df16[df16['발생년도']=='발생건수']"
   ]
  },
  {
   "cell_type": "code",
   "execution_count": 8,
   "metadata": {
    "collapsed": false
   },
   "outputs": [],
   "source": [
    "for i in range(len(df14.columns)-2):\n",
    "    df14.iloc[:,i+2] = df14.iloc[:,i+2].astype(str).replace('-',0).fillna(0).astype(int)\n",
    "    df15.iloc[:,i+2] = df15.iloc[:,i+2].astype(str).replace('-',0).fillna(0).astype(int)\n",
    "    df16.iloc[:,i+2] = df16.iloc[:,i+2].astype(str).replace('-',0).fillna(0).astype(int)"
   ]
  },
  {
   "cell_type": "code",
   "execution_count": 9,
   "metadata": {
    "collapsed": true
   },
   "outputs": [],
   "source": [
    "df_sum = df14.copy()"
   ]
  },
  {
   "cell_type": "code",
   "execution_count": 10,
   "metadata": {
    "collapsed": false
   },
   "outputs": [],
   "source": [
    "for i in range(len(df_sum.columns)-2):\n",
    "    df_sum.iloc[:,i+2] = df14.iloc[:,i+2]+df15.iloc[:,i+2]+df16.iloc[:,i+2]"
   ]
  },
  {
   "cell_type": "code",
   "execution_count": 11,
   "metadata": {
    "collapsed": false
   },
   "outputs": [],
   "source": [
    "df = df_sum.drop(['발생년도','기타/불명','합계'],axis=1)\n",
    "df = df.drop([2,62])"
   ]
  },
  {
   "cell_type": "code",
   "execution_count": 105,
   "metadata": {
    "collapsed": false
   },
   "outputs": [],
   "source": [
    "df.plot.bar(x='가해운전자 차종별 ',stacked=True, rot = 0)\n",
    "# plt.xticks(size = 10)\n",
    "# plt.yticks(size = 10)\n",
    "plt.show()"
   ]
  },
  {
   "cell_type": "code",
   "execution_count": 12,
   "metadata": {
    "collapsed": false
   },
   "outputs": [
    {
     "data": {
      "text/html": [
       "<div>\n",
       "<table border=\"1\" class=\"dataframe\">\n",
       "  <thead>\n",
       "    <tr style=\"text-align: right;\">\n",
       "      <th>1</th>\n",
       "      <th>가해운전자 차종별</th>\n",
       "      <th>횡단보도상</th>\n",
       "      <th>횡단보도부근</th>\n",
       "      <th>터널안</th>\n",
       "      <th>교량위</th>\n",
       "      <th>기타단일로</th>\n",
       "      <th>교차로내</th>\n",
       "      <th>교차로부근</th>\n",
       "      <th>건널목</th>\n",
       "      <th>고가도로위</th>\n",
       "      <th>지하도로내</th>\n",
       "    </tr>\n",
       "  </thead>\n",
       "  <tbody>\n",
       "    <tr>\n",
       "      <th>8</th>\n",
       "      <td>승용차</td>\n",
       "      <td>12307</td>\n",
       "      <td>3928</td>\n",
       "      <td>1130</td>\n",
       "      <td>2451</td>\n",
       "      <td>209995</td>\n",
       "      <td>133656</td>\n",
       "      <td>73696</td>\n",
       "      <td>7</td>\n",
       "      <td>952</td>\n",
       "      <td>492</td>\n",
       "    </tr>\n",
       "    <tr>\n",
       "      <th>14</th>\n",
       "      <td>승합차</td>\n",
       "      <td>1188</td>\n",
       "      <td>427</td>\n",
       "      <td>90</td>\n",
       "      <td>180</td>\n",
       "      <td>24120</td>\n",
       "      <td>10873</td>\n",
       "      <td>6900</td>\n",
       "      <td>1</td>\n",
       "      <td>70</td>\n",
       "      <td>25</td>\n",
       "    </tr>\n",
       "    <tr>\n",
       "      <th>20</th>\n",
       "      <td>화물차</td>\n",
       "      <td>1823</td>\n",
       "      <td>532</td>\n",
       "      <td>312</td>\n",
       "      <td>592</td>\n",
       "      <td>42027</td>\n",
       "      <td>22682</td>\n",
       "      <td>13388</td>\n",
       "      <td>5</td>\n",
       "      <td>200</td>\n",
       "      <td>100</td>\n",
       "    </tr>\n",
       "    <tr>\n",
       "      <th>26</th>\n",
       "      <td>특수차</td>\n",
       "      <td>42</td>\n",
       "      <td>15</td>\n",
       "      <td>14</td>\n",
       "      <td>22</td>\n",
       "      <td>1465</td>\n",
       "      <td>672</td>\n",
       "      <td>390</td>\n",
       "      <td>0</td>\n",
       "      <td>16</td>\n",
       "      <td>4</td>\n",
       "    </tr>\n",
       "    <tr>\n",
       "      <th>32</th>\n",
       "      <td>이륜차</td>\n",
       "      <td>1286</td>\n",
       "      <td>388</td>\n",
       "      <td>69</td>\n",
       "      <td>166</td>\n",
       "      <td>17246</td>\n",
       "      <td>11871</td>\n",
       "      <td>5494</td>\n",
       "      <td>0</td>\n",
       "      <td>44</td>\n",
       "      <td>46</td>\n",
       "    </tr>\n",
       "  </tbody>\n",
       "</table>\n",
       "</div>"
      ],
      "text/plain": [
       "1  가해운전자 차종별   횡단보도상 횡단보도부근   터널안   교량위   기타단일로    교차로내  교차로부근 건널목 고가도로위 지하도로내\n",
       "8         승용차  12307   3928  1130  2451  209995  133656  73696   7   952   492\n",
       "14        승합차   1188    427    90   180   24120   10873   6900   1    70    25\n",
       "20        화물차   1823    532   312   592   42027   22682  13388   5   200   100\n",
       "26        특수차     42     15    14    22    1465     672    390   0    16     4\n",
       "32        이륜차   1286    388    69   166   17246   11871   5494   0    44    46"
      ]
     },
     "execution_count": 12,
     "metadata": {},
     "output_type": "execute_result"
    }
   ],
   "source": [
    "df.head()"
   ]
  },
  {
   "cell_type": "code",
   "execution_count": 14,
   "metadata": {
    "collapsed": false
   },
   "outputs": [],
   "source": [
    "df_per = df.copy()\n",
    "col_list = list(df_per)\n",
    "col_list.remove('가해운전자 차종별 ')\n",
    "df_per['total'] = df_per[col_list].sum(axis=1)\n",
    "df_per[col_list] = df_per[col_list].div(df_per.total, axis='index')\n",
    "df_per = df_per.drop('total', axis=1)"
   ]
  },
  {
   "cell_type": "code",
   "execution_count": 18,
   "metadata": {
    "collapsed": false
   },
   "outputs": [],
   "source": [
    "df_per.plot.bar(x='가해운전자 차종별 ',stacked=True, rot = 0).legend(bbox_to_anchor=(1.1, 0.85))\n",
    "# df_per.plot.bar(x='시간',stacked=True, rot = 0).legend(bbox_to_anchor=(1.1, 0.85))\n",
    "plt.show()"
   ]
  }
 ],
 "metadata": {
  "kernelspec": {
   "display_name": "Python 3",
   "language": "python",
   "name": "python3"
  },
  "language_info": {
   "codemirror_mode": {
    "name": "ipython",
    "version": 3
   },
   "file_extension": ".py",
   "mimetype": "text/x-python",
   "name": "python",
   "nbconvert_exporter": "python",
   "pygments_lexer": "ipython3",
   "version": "3.5.1"
  }
 },
 "nbformat": 4,
 "nbformat_minor": 2
}
