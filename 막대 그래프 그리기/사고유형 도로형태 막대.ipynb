{
 "cells": [
  {
   "cell_type": "code",
   "execution_count": 1,
   "metadata": {
    "collapsed": true
   },
   "outputs": [],
   "source": [
    "import pandas as pd\n",
    "import numpy as np\n",
    "import matplotlib.pyplot as plt"
   ]
  },
  {
   "cell_type": "code",
   "execution_count": 14,
   "metadata": {
    "collapsed": true
   },
   "outputs": [],
   "source": [
    "# matplotlib에서 한글 사용하기\n",
    "from matplotlib import font_manager, rc\n",
    "font_name = font_manager.FontProperties(fname=\"c:/Windows/Fonts/malgun.ttf\").get_name()\n",
    "rc('font', family=font_name)"
   ]
  },
  {
   "cell_type": "code",
   "execution_count": 3,
   "metadata": {
    "collapsed": false
   },
   "outputs": [],
   "source": [
    "df14 = pd.read_excel('사고유형별 도로형태별 2014.xls')\n",
    "df15 = pd.read_excel('사고유형별 도로형태별 2015.xls')\n",
    "df16 = pd.read_excel('사고유형별 도로형태별 2016.xls')"
   ]
  },
  {
   "cell_type": "code",
   "execution_count": 4,
   "metadata": {
    "collapsed": false
   },
   "outputs": [],
   "source": [
    "df14.columns = df14.iloc[1,:]\n",
    "df15.columns = df15.iloc[1,:]\n",
    "df16.columns = df16.iloc[1,:]\n",
    "df14 = df14.drop(0)\n",
    "df15 = df15.drop(0)\n",
    "df16 = df16.drop(0)"
   ]
  },
  {
   "cell_type": "code",
   "execution_count": 5,
   "metadata": {
    "collapsed": false
   },
   "outputs": [],
   "source": [
    "df14 = df14[df14['기준년도']=='발생건수']\n",
    "df15 = df15[df15['기준년도']=='발생건수']\n",
    "df16 = df16[df16['기준년도']=='발생건수']"
   ]
  },
  {
   "cell_type": "code",
   "execution_count": 6,
   "metadata": {
    "collapsed": false
   },
   "outputs": [],
   "source": [
    "for i in range(len(df14.columns)-3):\n",
    "    df14.iloc[:,i+3] = df14.iloc[:,i+3].astype(str).replace('-',0).fillna(0).astype(int)\n",
    "    df15.iloc[:,i+3] = df15.iloc[:,i+3].astype(str).replace('-',0).fillna(0).astype(int)\n",
    "    df16.iloc[:,i+3] = df16.iloc[:,i+3].astype(str).replace('-',0).fillna(0).astype(int)"
   ]
  },
  {
   "cell_type": "code",
   "execution_count": 15,
   "metadata": {
    "collapsed": false
   },
   "outputs": [],
   "source": [
    "df_sum = df14.copy()"
   ]
  },
  {
   "cell_type": "code",
   "execution_count": 24,
   "metadata": {
    "collapsed": false
   },
   "outputs": [],
   "source": [
    "for i in range(len(df_sum.columns)-3):\n",
    "    df_sum.iloc[:,i+3] = df14.iloc[:,i+3]+df15.iloc[:,i+3]+df16.iloc[:,i+3]"
   ]
  },
  {
   "cell_type": "code",
   "execution_count": 26,
   "metadata": {
    "collapsed": false
   },
   "outputs": [],
   "source": [
    "df = df_sum.drop(['사고유형대구분','기준년도','미분류','기타','합계'],axis=1)\n",
    "df = df.drop(2)\n",
    "df = df.drop([10,50,58,90,98,146,162,170,178,186,138,154])"
   ]
  },
  {
   "cell_type": "code",
   "execution_count": 27,
   "metadata": {
    "collapsed": false
   },
   "outputs": [
    {
     "data": {
      "text/html": [
       "<div>\n",
       "<table border=\"1\" class=\"dataframe\">\n",
       "  <thead>\n",
       "    <tr style=\"text-align: right;\">\n",
       "      <th>1</th>\n",
       "      <th>사고유형중구분</th>\n",
       "      <th>교차로안</th>\n",
       "      <th>교차로부근</th>\n",
       "      <th>횡단보도상</th>\n",
       "      <th>횡단보도부근</th>\n",
       "      <th>터널</th>\n",
       "      <th>교량</th>\n",
       "      <th>철길건널목</th>\n",
       "    </tr>\n",
       "  </thead>\n",
       "  <tbody>\n",
       "    <tr>\n",
       "      <th>18</th>\n",
       "      <td>횡단중</td>\n",
       "      <td>13897</td>\n",
       "      <td>12365</td>\n",
       "      <td>13136</td>\n",
       "      <td>1913</td>\n",
       "      <td>9</td>\n",
       "      <td>88</td>\n",
       "      <td>7</td>\n",
       "    </tr>\n",
       "    <tr>\n",
       "      <th>26</th>\n",
       "      <td>차도통행중</td>\n",
       "      <td>1692</td>\n",
       "      <td>1434</td>\n",
       "      <td>121</td>\n",
       "      <td>239</td>\n",
       "      <td>7</td>\n",
       "      <td>28</td>\n",
       "      <td>0</td>\n",
       "    </tr>\n",
       "    <tr>\n",
       "      <th>34</th>\n",
       "      <td>길가장자리구역통행중</td>\n",
       "      <td>956</td>\n",
       "      <td>1256</td>\n",
       "      <td>56</td>\n",
       "      <td>62</td>\n",
       "      <td>6</td>\n",
       "      <td>31</td>\n",
       "      <td>10</td>\n",
       "    </tr>\n",
       "    <tr>\n",
       "      <th>42</th>\n",
       "      <td>보도통행중</td>\n",
       "      <td>810</td>\n",
       "      <td>892</td>\n",
       "      <td>894</td>\n",
       "      <td>111</td>\n",
       "      <td>5</td>\n",
       "      <td>18</td>\n",
       "      <td>0</td>\n",
       "    </tr>\n",
       "    <tr>\n",
       "      <th>66</th>\n",
       "      <td>정면충돌</td>\n",
       "      <td>17818</td>\n",
       "      <td>5936</td>\n",
       "      <td>330</td>\n",
       "      <td>169</td>\n",
       "      <td>92</td>\n",
       "      <td>272</td>\n",
       "      <td>6</td>\n",
       "    </tr>\n",
       "    <tr>\n",
       "      <th>74</th>\n",
       "      <td>측면직각충돌</td>\n",
       "      <td>126154</td>\n",
       "      <td>26023</td>\n",
       "      <td>2800</td>\n",
       "      <td>1031</td>\n",
       "      <td>187</td>\n",
       "      <td>686</td>\n",
       "      <td>30</td>\n",
       "    </tr>\n",
       "    <tr>\n",
       "      <th>82</th>\n",
       "      <td>추돌</td>\n",
       "      <td>61776</td>\n",
       "      <td>39724</td>\n",
       "      <td>505</td>\n",
       "      <td>2023</td>\n",
       "      <td>1046</td>\n",
       "      <td>1583</td>\n",
       "      <td>64</td>\n",
       "    </tr>\n",
       "    <tr>\n",
       "      <th>106</th>\n",
       "      <td>공작물충돌</td>\n",
       "      <td>3153</td>\n",
       "      <td>1246</td>\n",
       "      <td>2</td>\n",
       "      <td>33</td>\n",
       "      <td>85</td>\n",
       "      <td>200</td>\n",
       "      <td>1</td>\n",
       "    </tr>\n",
       "    <tr>\n",
       "      <th>114</th>\n",
       "      <td>도로외이탈</td>\n",
       "      <td>1097</td>\n",
       "      <td>159</td>\n",
       "      <td>0</td>\n",
       "      <td>2</td>\n",
       "      <td>2</td>\n",
       "      <td>32</td>\n",
       "      <td>0</td>\n",
       "    </tr>\n",
       "    <tr>\n",
       "      <th>122</th>\n",
       "      <td>주차차량추돌</td>\n",
       "      <td>8</td>\n",
       "      <td>10</td>\n",
       "      <td>0</td>\n",
       "      <td>2</td>\n",
       "      <td>0</td>\n",
       "      <td>0</td>\n",
       "      <td>0</td>\n",
       "    </tr>\n",
       "    <tr>\n",
       "      <th>130</th>\n",
       "      <td>전도전복</td>\n",
       "      <td>1015</td>\n",
       "      <td>823</td>\n",
       "      <td>7</td>\n",
       "      <td>14</td>\n",
       "      <td>73</td>\n",
       "      <td>120</td>\n",
       "      <td>0</td>\n",
       "    </tr>\n",
       "  </tbody>\n",
       "</table>\n",
       "</div>"
      ],
      "text/plain": [
       "1       사고유형중구분    교차로안  교차로부근  횡단보도상 횡단보도부근    터널    교량 철길건널목\n",
       "18          횡단중   13897  12365  13136   1913     9    88     7\n",
       "26        차도통행중    1692   1434    121    239     7    28     0\n",
       "34   길가장자리구역통행중     956   1256     56     62     6    31    10\n",
       "42        보도통행중     810    892    894    111     5    18     0\n",
       "66         정면충돌   17818   5936    330    169    92   272     6\n",
       "74       측면직각충돌  126154  26023   2800   1031   187   686    30\n",
       "82           추돌   61776  39724    505   2023  1046  1583    64\n",
       "106       공작물충돌    3153   1246      2     33    85   200     1\n",
       "114       도로외이탈    1097    159      0      2     2    32     0\n",
       "122      주차차량추돌       8     10      0      2     0     0     0\n",
       "130        전도전복    1015    823      7     14    73   120     0"
      ]
     },
     "execution_count": 27,
     "metadata": {},
     "output_type": "execute_result"
    }
   ],
   "source": [
    "df"
   ]
  },
  {
   "cell_type": "code",
   "execution_count": 28,
   "metadata": {
    "collapsed": false
   },
   "outputs": [],
   "source": [
    "df.plot.bar(x='사고유형중구분',stacked=True, rot = 0)\n",
    "plt.xticks(size = 10)\n",
    "plt.show()"
   ]
  },
  {
   "cell_type": "code",
   "execution_count": 29,
   "metadata": {
    "collapsed": true
   },
   "outputs": [],
   "source": [
    "df_per = df.copy()\n",
    "col_list = list(df_per)\n",
    "col_list.remove('사고유형중구분')\n",
    "df_per['total'] = df_per[col_list].sum(axis=1)\n",
    "df_per[col_list] = df_per[col_list].div(df_per.total, axis='index')\n",
    "df_per = df_per.drop('total', axis=1)"
   ]
  },
  {
   "cell_type": "code",
   "execution_count": 33,
   "metadata": {
    "collapsed": false
   },
   "outputs": [],
   "source": [
    "df_per.plot.bar(x='사고유형중구분',stacked=True, rot = 0)\n",
    "plt.xticks(size = 10)\n",
    "plt.show()"
   ]
  }
 ],
 "metadata": {
  "kernelspec": {
   "display_name": "Python 3",
   "language": "python",
   "name": "python3"
  },
  "language_info": {
   "codemirror_mode": {
    "name": "ipython",
    "version": 3
   },
   "file_extension": ".py",
   "mimetype": "text/x-python",
   "name": "python",
   "nbconvert_exporter": "python",
   "pygments_lexer": "ipython3",
   "version": "3.5.1"
  }
 },
 "nbformat": 4,
 "nbformat_minor": 2
}
