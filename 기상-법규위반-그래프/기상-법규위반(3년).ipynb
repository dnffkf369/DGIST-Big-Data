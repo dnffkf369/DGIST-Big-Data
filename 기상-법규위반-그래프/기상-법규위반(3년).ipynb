{
 "cells": [
  {
   "cell_type": "code",
   "execution_count": 1,
   "metadata": {
    "collapsed": false
   },
   "outputs": [],
   "source": [
    "import pandas as pd\n",
    "import matplotlib\n",
    "import matplotlib.pyplot as plt\n",
    "import numpy as np"
   ]
  },
  {
   "cell_type": "code",
   "execution_count": 2,
   "metadata": {
    "collapsed": false
   },
   "outputs": [],
   "source": [
    "# matplotlib에서 한글 사용하기\n",
    "from matplotlib import font_manager, rc\n",
    "font_name = font_manager.FontProperties(fname=\"c:/Windows/Fonts/malgun.ttf\").get_name()\n",
    "rc('font', family=font_name)"
   ]
  },
  {
   "cell_type": "code",
   "execution_count": 6,
   "metadata": {
    "collapsed": false
   },
   "outputs": [],
   "source": [
    "weather_2014 = pd.read_excel('2014년 기상.xlsx')\n",
    "# '-'문자 0으로 바꾸기\n",
    "weather_2014['날짜'] = weather_2014['날짜'].apply(lambda x: pd.to_datetime(str(x), format='%Y%m%d'))\n",
    "weather_2014['맑음'] = pd.to_numeric(weather_2014.맑음.astype(str).replace('-','0'),errors='coerce').fillna(0).astype(int)\n",
    "weather_2014['흐림'] = pd.to_numeric(weather_2014.흐림.astype(str).replace('-','0'),errors='coerce').fillna(0).astype(int)\n",
    "weather_2014['비'] = pd.to_numeric(weather_2014.비.astype(str).replace('-','0'),errors='coerce').fillna(0).astype(int)\n",
    "weather_2014['안개'] = pd.to_numeric(weather_2014.안개.astype(str).replace('-','0'),errors='coerce').fillna(0).astype(int)\n",
    "weather_2014['눈'] = pd.to_numeric(weather_2014.눈.astype(str).replace('-','0'),errors='coerce').fillna(0).astype(int)\n",
    "del weather_2014['기타']\n",
    "del weather_2014['미분류']"
   ]
  },
  {
   "cell_type": "code",
   "execution_count": 10,
   "metadata": {
    "collapsed": true
   },
   "outputs": [],
   "source": [
    "weather_2015 = pd.read_excel('2015년 기상.xlsx')\n",
    "# '-'문자 0으로 바꾸기\n",
    "weather_2015['날짜'] = weather_2015['날짜'].apply(lambda x: pd.to_datetime(str(x), format='%Y%m%d'))\n",
    "weather_2015['맑음'] = pd.to_numeric(weather_2015.맑음.astype(str).replace('-','0'),errors='coerce').fillna(0).astype(int)\n",
    "weather_2015['흐림'] = pd.to_numeric(weather_2015.흐림.astype(str).replace('-','0'),errors='coerce').fillna(0).astype(int)\n",
    "weather_2015['비'] = pd.to_numeric(weather_2015.비.astype(str).replace('-','0'),errors='coerce').fillna(0).astype(int)\n",
    "weather_2015['안개'] = pd.to_numeric(weather_2015.안개.astype(str).replace('-','0'),errors='coerce').fillna(0).astype(int)\n",
    "weather_2015['눈'] = pd.to_numeric(weather_2015.눈.astype(str).replace('-','0'),errors='coerce').fillna(0).astype(int)\n",
    "del weather_2015['기타']\n",
    "del weather_2015['미분류']"
   ]
  },
  {
   "cell_type": "code",
   "execution_count": 15,
   "metadata": {
    "collapsed": true
   },
   "outputs": [],
   "source": [
    "weather_2016 = pd.read_excel('2016년 기상.xlsx')\n",
    "# '-'문자 0으로 바꾸기\n",
    "weather_2016['날짜'] = weather_2016['날짜'].apply(lambda x: pd.to_datetime(str(x), format='%Y%m%d'))\n",
    "weather_2016['맑음'] = pd.to_numeric(weather_2016.맑음.astype(str).replace('-','0'),errors='coerce').fillna(0).astype(int)\n",
    "weather_2016['흐림'] = pd.to_numeric(weather_2016.흐림.astype(str).replace('-','0'),errors='coerce').fillna(0).astype(int)\n",
    "weather_2016['비'] = pd.to_numeric(weather_2016.비.astype(str).replace('-','0'),errors='coerce').fillna(0).astype(int)\n",
    "weather_2016['안개'] = pd.to_numeric(weather_2016.안개.astype(str).replace('-','0'),errors='coerce').fillna(0).astype(int)\n",
    "weather_2016['눈'] = pd.to_numeric(weather_2016.눈.astype(str).replace('-','0'),errors='coerce').fillna(0).astype(int)\n",
    "del weather_2016['기타']\n",
    "del weather_2016['미분류']"
   ]
  },
  {
   "cell_type": "code",
   "execution_count": 18,
   "metadata": {
    "collapsed": false,
    "scrolled": true
   },
   "outputs": [],
   "source": [
    "weather_total = pd.merge(weather_2014, weather_2015, how='outer')\n",
    "weather_total = pd.merge(weather_total, weather_2016, how='outer')"
   ]
  },
  {
   "cell_type": "code",
   "execution_count": 30,
   "metadata": {
    "collapsed": false
   },
   "outputs": [],
   "source": [
    "violation_2014 = pd.read_excel('2014년 법규위반.xlsx')\n",
    "# '-'문자 0으로 바꾸기\n",
    "violation_2014['날짜'] = violation_2014['날짜'].apply(lambda x: pd.to_datetime(str(x), format='%Y%m%d'))\n",
    "violation_2014['과속'] = pd.to_numeric(violation_2014.과속.astype(str).replace('-','0'),errors='coerce').fillna(0).astype(int)\n",
    "violation_2014['불법유턴'] = pd.to_numeric(violation_2014.불법유턴.astype(str).replace('-','0'),errors='coerce').fillna(0).astype(int)\n",
    "del violation_2014['기타']\n",
    "del violation_2014['미분류']"
   ]
  },
  {
   "cell_type": "code",
   "execution_count": 31,
   "metadata": {
    "collapsed": true
   },
   "outputs": [],
   "source": [
    "violation_2015 = pd.read_excel('2015년 법규위반.xlsx')\n",
    "# '-'문자 0으로 바꾸기\n",
    "violation_2015['날짜'] = violation_2015['날짜'].apply(lambda x: pd.to_datetime(str(x), format='%Y%m%d'))\n",
    "violation_2015['과속'] = pd.to_numeric(violation_2015.과속.astype(str).replace('-','0'),errors='coerce').fillna(0).astype(int)\n",
    "violation_2015['불법유턴'] = pd.to_numeric(violation_2015.불법유턴.astype(str).replace('-','0'),errors='coerce').fillna(0).astype(int)\n",
    "# violation_2015['과속'] = pd.to_numeric(violation_2015.과속.astype(str).replace('-','0'),errors='coerce').fillna(0).astype(int)\n",
    "# violation_2015['과속'] = pd.to_numeric(violation_2015.과속.astype(str).replace('-','0'),errors='coerce').fillna(0).astype(int)\n",
    "del violation_2015['기타']\n",
    "del violation_2015['미분류']"
   ]
  },
  {
   "cell_type": "code",
   "execution_count": 32,
   "metadata": {
    "collapsed": true
   },
   "outputs": [],
   "source": [
    "violation_2016 = pd.read_excel('2016년 법규위반.xlsx')\n",
    "# '-'문자 0으로 바꾸기\n",
    "violation_2016['날짜'] = violation_2016['날짜'].apply(lambda x: pd.to_datetime(str(x), format='%Y%m%d'))\n",
    "violation_2016['과속'] = pd.to_numeric(violation_2016.과속.astype(str).replace('-','0'),errors='coerce').fillna(0).astype(int)\n",
    "violation_2016['불법유턴'] = pd.to_numeric(violation_2016.불법유턴.astype(str).replace('-','0'),errors='coerce').fillna(0).astype(int)\n",
    "# violation_2016['과속'] = pd.to_numeric(violation_2016.과속.astype(str).replace('-','0'),errors='coerce').fillna(0).astype(int)\n",
    "# violation_2016['과속'] = pd.to_numeric(violation_2016.과속.astype(str).replace('-','0'),errors='coerce').fillna(0).astype(int)\n",
    "del violation_2016['기타']\n",
    "del violation_2016['미분류']"
   ]
  },
  {
   "cell_type": "code",
   "execution_count": 55,
   "metadata": {
    "collapsed": false
   },
   "outputs": [],
   "source": [
    "violation_total = pd.merge(violation_2014, violation_2015, how='outer')\n",
    "violation_total = pd.merge(violation_total, violation_2016, how='outer')"
   ]
  },
  {
   "cell_type": "code",
   "execution_count": 59,
   "metadata": {
    "collapsed": false
   },
   "outputs": [],
   "source": [
    "weather_violation = pd.merge(weather_total,violation_total,how='outer')"
   ]
  },
  {
   "cell_type": "code",
   "execution_count": 62,
   "metadata": {
    "collapsed": false
   },
   "outputs": [
    {
     "name": "stdout",
     "output_type": "stream",
     "text": [
      "x =  맑음  v =  중앙선침범\n",
      "x =  맑음  v =  신호위반\n",
      "x =  맑음  v =  안전거리미확보\n",
      "x =  맑음  v =  불법유턴\n",
      "x =  맑음  v =  과속\n",
      "x =  맑음  v =  안전운전불이행\n",
      "x =  맑음  v =  교차로운행방법위반\n",
      "x =  맑음  v =  보행자보호의무위반\n",
      "x =  맑음  v =  차로위반\n",
      "x =  맑음  v =  직진우회전진행방해\n",
      "x =  흐림  v =  중앙선침범\n",
      "x =  흐림  v =  신호위반\n",
      "x =  흐림  v =  안전거리미확보\n",
      "x =  흐림  v =  불법유턴\n",
      "x =  흐림  v =  과속\n",
      "x =  흐림  v =  안전운전불이행\n",
      "x =  흐림  v =  교차로운행방법위반\n",
      "x =  흐림  v =  보행자보호의무위반\n",
      "x =  흐림  v =  차로위반\n",
      "x =  흐림  v =  직진우회전진행방해\n",
      "x =  비  v =  중앙선침범\n"
     ]
    },
    {
     "name": "stderr",
     "output_type": "stream",
     "text": [
      "C:\\Users\\user\\Anaconda3\\lib\\site-packages\\matplotlib\\pyplot.py:516: RuntimeWarning: More than 20 figures have been opened. Figures created through the pyplot interface (`matplotlib.pyplot.figure`) are retained until explicitly closed and may consume too much memory. (To control this warning, see the rcParam `figure.max_open_warning`).\n",
      "  max_open_warning, RuntimeWarning)\n"
     ]
    },
    {
     "name": "stdout",
     "output_type": "stream",
     "text": [
      "x =  비  v =  신호위반\n",
      "x =  비  v =  안전거리미확보\n",
      "x =  비  v =  불법유턴\n",
      "x =  비  v =  과속\n",
      "x =  비  v =  안전운전불이행\n",
      "x =  비  v =  교차로운행방법위반\n",
      "x =  비  v =  보행자보호의무위반\n",
      "x =  비  v =  차로위반\n",
      "x =  비  v =  직진우회전진행방해\n",
      "x =  안개  v =  중앙선침범\n",
      "x =  안개  v =  신호위반\n",
      "x =  안개  v =  안전거리미확보\n",
      "x =  안개  v =  불법유턴\n",
      "x =  안개  v =  과속\n",
      "x =  안개  v =  안전운전불이행\n",
      "x =  안개  v =  교차로운행방법위반\n",
      "x =  안개  v =  보행자보호의무위반\n",
      "x =  안개  v =  차로위반\n",
      "x =  안개  v =  직진우회전진행방해\n",
      "x =  눈  v =  중앙선침범\n",
      "x =  눈  v =  신호위반\n",
      "x =  눈  v =  안전거리미확보\n",
      "x =  눈  v =  불법유턴\n",
      "x =  눈  v =  과속\n",
      "x =  눈  v =  안전운전불이행\n",
      "x =  눈  v =  교차로운행방법위반\n",
      "x =  눈  v =  보행자보호의무위반\n",
      "x =  눈  v =  차로위반\n",
      "x =  눈  v =  직진우회전진행방해\n"
     ]
    }
   ],
   "source": [
    "w_col = weather_total.columns\n",
    "v_col = violation_total.columns\n",
    "for w in w_col:\n",
    "    if w == '날짜' or w=='요일구분':\n",
    "        continue\n",
    "    for v in v_col:\n",
    "        if v == '날짜' or v == '요일구분':\n",
    "            continue\n",
    "        print('x = ',w,' v = ',v)\n",
    "        weather_violation.plot(x=w, y=v, linestyle='', marker='o')\n",
    "        plt.xlim(weather_violation[w].min(),weather_violation[w].max())\n",
    "        plt.ylim(weather_violation[v].min(),weather_violation[v].max())\n",
    "        plt.savefig(w+'_'+v+'.png')"
   ]
  },
  {
   "cell_type": "code",
   "execution_count": 10,
   "metadata": {
    "collapsed": false
   },
   "outputs": [],
   "source": [
    "weather_violation.plot(x = '맑음',y='신호위반',linestyle='',marker='o')\n",
    "plt.xlim(weather_violation['맑음'].min(),weather_violation['맑음'].max())\n",
    "plt.ylim(weather_violation['신호위반'].min(),weather_violation['신호위반'].max())\n",
    "plt.savefig('myfig.png')\n",
    "plt.show()"
   ]
  },
  {
   "cell_type": "code",
   "execution_count": 161,
   "metadata": {
    "collapsed": true
   },
   "outputs": [],
   "source": [
    "plt.show()"
   ]
  },
  {
   "cell_type": "code",
   "execution_count": 154,
   "metadata": {
    "collapsed": false
   },
   "outputs": [
    {
     "data": {
      "text/html": [
       "<div>\n",
       "<table border=\"1\" class=\"dataframe\">\n",
       "  <thead>\n",
       "    <tr style=\"text-align: right;\">\n",
       "      <th></th>\n",
       "      <th>날짜</th>\n",
       "      <th>요일구분</th>\n",
       "      <th>맑음</th>\n",
       "      <th>흐림</th>\n",
       "      <th>비</th>\n",
       "      <th>안개</th>\n",
       "      <th>눈</th>\n",
       "      <th>기타</th>\n",
       "      <th>미분류</th>\n",
       "      <th>중앙선침범</th>\n",
       "      <th>신호위반</th>\n",
       "      <th>안전거리미확보</th>\n",
       "      <th>불법유턴</th>\n",
       "      <th>과속</th>\n",
       "      <th>안전운전불이행</th>\n",
       "      <th>교차로운행방법위반</th>\n",
       "      <th>보행자보호의무위반</th>\n",
       "      <th>차로위반</th>\n",
       "      <th>직진우회전진행방해</th>\n",
       "    </tr>\n",
       "  </thead>\n",
       "  <tbody>\n",
       "    <tr>\n",
       "      <th>0</th>\n",
       "      <td>2014-01-01</td>\n",
       "      <td>수요일</td>\n",
       "      <td>531</td>\n",
       "      <td>11</td>\n",
       "      <td>3</td>\n",
       "      <td>0</td>\n",
       "      <td>1</td>\n",
       "      <td>471</td>\n",
       "      <td>1000</td>\n",
       "      <td>52</td>\n",
       "      <td>111</td>\n",
       "      <td>138</td>\n",
       "      <td>2</td>\n",
       "      <td>3</td>\n",
       "      <td>601</td>\n",
       "      <td>44</td>\n",
       "      <td>31</td>\n",
       "      <td>4</td>\n",
       "      <td>9</td>\n",
       "    </tr>\n",
       "    <tr>\n",
       "      <th>1</th>\n",
       "      <td>2014-01-02</td>\n",
       "      <td>목요일</td>\n",
       "      <td>627</td>\n",
       "      <td>9</td>\n",
       "      <td>4</td>\n",
       "      <td>1</td>\n",
       "      <td>0</td>\n",
       "      <td>643</td>\n",
       "      <td>1411</td>\n",
       "      <td>51</td>\n",
       "      <td>108</td>\n",
       "      <td>191</td>\n",
       "      <td>2</td>\n",
       "      <td>1</td>\n",
       "      <td>785</td>\n",
       "      <td>39</td>\n",
       "      <td>36</td>\n",
       "      <td>4</td>\n",
       "      <td>15</td>\n",
       "    </tr>\n",
       "    <tr>\n",
       "      <th>2</th>\n",
       "      <td>2014-01-03</td>\n",
       "      <td>금요일</td>\n",
       "      <td>673</td>\n",
       "      <td>22</td>\n",
       "      <td>3</td>\n",
       "      <td>1</td>\n",
       "      <td>3</td>\n",
       "      <td>656</td>\n",
       "      <td>1371</td>\n",
       "      <td>69</td>\n",
       "      <td>109</td>\n",
       "      <td>203</td>\n",
       "      <td>5</td>\n",
       "      <td>0</td>\n",
       "      <td>770</td>\n",
       "      <td>44</td>\n",
       "      <td>49</td>\n",
       "      <td>7</td>\n",
       "      <td>15</td>\n",
       "    </tr>\n",
       "    <tr>\n",
       "      <th>3</th>\n",
       "      <td>2014-01-04</td>\n",
       "      <td>토요일</td>\n",
       "      <td>629</td>\n",
       "      <td>14</td>\n",
       "      <td>12</td>\n",
       "      <td>0</td>\n",
       "      <td>15</td>\n",
       "      <td>580</td>\n",
       "      <td>1269</td>\n",
       "      <td>64</td>\n",
       "      <td>113</td>\n",
       "      <td>175</td>\n",
       "      <td>1</td>\n",
       "      <td>1</td>\n",
       "      <td>762</td>\n",
       "      <td>54</td>\n",
       "      <td>45</td>\n",
       "      <td>8</td>\n",
       "      <td>14</td>\n",
       "    </tr>\n",
       "    <tr>\n",
       "      <th>4</th>\n",
       "      <td>2014-01-05</td>\n",
       "      <td>일요일</td>\n",
       "      <td>442</td>\n",
       "      <td>11</td>\n",
       "      <td>7</td>\n",
       "      <td>1</td>\n",
       "      <td>2</td>\n",
       "      <td>407</td>\n",
       "      <td>918</td>\n",
       "      <td>49</td>\n",
       "      <td>82</td>\n",
       "      <td>129</td>\n",
       "      <td>2</td>\n",
       "      <td>0</td>\n",
       "      <td>497</td>\n",
       "      <td>25</td>\n",
       "      <td>25</td>\n",
       "      <td>4</td>\n",
       "      <td>12</td>\n",
       "    </tr>\n",
       "  </tbody>\n",
       "</table>\n",
       "</div>"
      ],
      "text/plain": [
       "          날짜 요일구분   맑음  흐림   비  안개   눈   기타   미분류  중앙선침범  신호위반  안전거리미확보 불법유턴  \\\n",
       "0 2014-01-01  수요일  531  11   3   0   1  471  1000     52   111      138    2   \n",
       "1 2014-01-02  목요일  627   9   4   1   0  643  1411     51   108      191    2   \n",
       "2 2014-01-03  금요일  673  22   3   1   3  656  1371     69   109      203    5   \n",
       "3 2014-01-04  토요일  629  14  12   0  15  580  1269     64   113      175    1   \n",
       "4 2014-01-05  일요일  442  11   7   1   2  407   918     49    82      129    2   \n",
       "\n",
       "   과속  안전운전불이행  교차로운행방법위반  보행자보호의무위반  차로위반  직진우회전진행방해  \n",
       "0   3      601         44         31     4          9  \n",
       "1   1      785         39         36     4         15  \n",
       "2   0      770         44         49     7         15  \n",
       "3   1      762         54         45     8         14  \n",
       "4   0      497         25         25     4         12  "
      ]
     },
     "execution_count": 154,
     "metadata": {},
     "output_type": "execute_result"
    }
   ],
   "source": [
    "weather_violation.head()"
   ]
  },
  {
   "cell_type": "code",
   "execution_count": 149,
   "metadata": {
    "collapsed": false
   },
   "outputs": [
    {
     "data": {
      "text/html": [
       "<div>\n",
       "<table border=\"1\" class=\"dataframe\">\n",
       "  <thead>\n",
       "    <tr style=\"text-align: right;\">\n",
       "      <th></th>\n",
       "      <th>날짜</th>\n",
       "      <th>요일구분</th>\n",
       "      <th>맑음</th>\n",
       "      <th>흐림</th>\n",
       "      <th>비</th>\n",
       "      <th>안개</th>\n",
       "      <th>눈</th>\n",
       "      <th>기타</th>\n",
       "      <th>미분류</th>\n",
       "    </tr>\n",
       "  </thead>\n",
       "  <tbody>\n",
       "    <tr>\n",
       "      <th>0</th>\n",
       "      <td>2014-01-01</td>\n",
       "      <td>수요일</td>\n",
       "      <td>531</td>\n",
       "      <td>11</td>\n",
       "      <td>3</td>\n",
       "      <td>0</td>\n",
       "      <td>1</td>\n",
       "      <td>471</td>\n",
       "      <td>1000</td>\n",
       "    </tr>\n",
       "    <tr>\n",
       "      <th>1</th>\n",
       "      <td>2014-01-02</td>\n",
       "      <td>목요일</td>\n",
       "      <td>627</td>\n",
       "      <td>9</td>\n",
       "      <td>4</td>\n",
       "      <td>1</td>\n",
       "      <td>0</td>\n",
       "      <td>643</td>\n",
       "      <td>1411</td>\n",
       "    </tr>\n",
       "    <tr>\n",
       "      <th>2</th>\n",
       "      <td>2014-01-03</td>\n",
       "      <td>금요일</td>\n",
       "      <td>673</td>\n",
       "      <td>22</td>\n",
       "      <td>3</td>\n",
       "      <td>1</td>\n",
       "      <td>3</td>\n",
       "      <td>656</td>\n",
       "      <td>1371</td>\n",
       "    </tr>\n",
       "    <tr>\n",
       "      <th>3</th>\n",
       "      <td>2014-01-04</td>\n",
       "      <td>토요일</td>\n",
       "      <td>629</td>\n",
       "      <td>14</td>\n",
       "      <td>12</td>\n",
       "      <td>0</td>\n",
       "      <td>15</td>\n",
       "      <td>580</td>\n",
       "      <td>1269</td>\n",
       "    </tr>\n",
       "    <tr>\n",
       "      <th>4</th>\n",
       "      <td>2014-01-05</td>\n",
       "      <td>일요일</td>\n",
       "      <td>442</td>\n",
       "      <td>11</td>\n",
       "      <td>7</td>\n",
       "      <td>1</td>\n",
       "      <td>2</td>\n",
       "      <td>407</td>\n",
       "      <td>918</td>\n",
       "    </tr>\n",
       "  </tbody>\n",
       "</table>\n",
       "</div>"
      ],
      "text/plain": [
       "          날짜 요일구분   맑음  흐림   비  안개   눈   기타   미분류\n",
       "0 2014-01-01  수요일  531  11   3   0   1  471  1000\n",
       "1 2014-01-02  목요일  627   9   4   1   0  643  1411\n",
       "2 2014-01-03  금요일  673  22   3   1   3  656  1371\n",
       "3 2014-01-04  토요일  629  14  12   0  15  580  1269\n",
       "4 2014-01-05  일요일  442  11   7   1   2  407   918"
      ]
     },
     "execution_count": 149,
     "metadata": {},
     "output_type": "execute_result"
    }
   ],
   "source": [
    "weather.head()"
   ]
  },
  {
   "cell_type": "code",
   "execution_count": 132,
   "metadata": {
    "collapsed": false
   },
   "outputs": [],
   "source": [
    "# 그래프 그리기\n",
    "df.plot(x = '날짜', y=['합계'], linestyle='', marker='o')\n",
    "plt.show()"
   ]
  },
  {
   "cell_type": "code",
   "execution_count": 130,
   "metadata": {
    "collapsed": false
   },
   "outputs": [],
   "source": [
    "df['합계'] = df['맑음']+df['비']+df['흐림']+df['안개']+df['기타']+df['미분류']"
   ]
  },
  {
   "cell_type": "code",
   "execution_count": 123,
   "metadata": {
    "collapsed": false
   },
   "outputs": [
    {
     "data": {
      "text/html": [
       "<div>\n",
       "<table border=\"1\" class=\"dataframe\">\n",
       "  <thead>\n",
       "    <tr style=\"text-align: right;\">\n",
       "      <th></th>\n",
       "      <th>날짜</th>\n",
       "      <th>요일구분</th>\n",
       "      <th>맑음</th>\n",
       "      <th>흐림</th>\n",
       "      <th>비</th>\n",
       "      <th>안개</th>\n",
       "      <th>눈</th>\n",
       "      <th>기타</th>\n",
       "      <th>미분류</th>\n",
       "      <th>맑고흐림</th>\n",
       "    </tr>\n",
       "  </thead>\n",
       "  <tbody>\n",
       "    <tr>\n",
       "      <th>0</th>\n",
       "      <td>2014-01-01</td>\n",
       "      <td>수요일</td>\n",
       "      <td>531</td>\n",
       "      <td>11</td>\n",
       "      <td>3</td>\n",
       "      <td>0</td>\n",
       "      <td>1</td>\n",
       "      <td>471</td>\n",
       "      <td>1000</td>\n",
       "      <td>542</td>\n",
       "    </tr>\n",
       "    <tr>\n",
       "      <th>1</th>\n",
       "      <td>2014-01-02</td>\n",
       "      <td>목요일</td>\n",
       "      <td>627</td>\n",
       "      <td>9</td>\n",
       "      <td>4</td>\n",
       "      <td>1</td>\n",
       "      <td>0</td>\n",
       "      <td>643</td>\n",
       "      <td>1411</td>\n",
       "      <td>636</td>\n",
       "    </tr>\n",
       "    <tr>\n",
       "      <th>2</th>\n",
       "      <td>2014-01-03</td>\n",
       "      <td>금요일</td>\n",
       "      <td>673</td>\n",
       "      <td>22</td>\n",
       "      <td>3</td>\n",
       "      <td>1</td>\n",
       "      <td>3</td>\n",
       "      <td>656</td>\n",
       "      <td>1371</td>\n",
       "      <td>695</td>\n",
       "    </tr>\n",
       "    <tr>\n",
       "      <th>3</th>\n",
       "      <td>2014-01-04</td>\n",
       "      <td>토요일</td>\n",
       "      <td>629</td>\n",
       "      <td>14</td>\n",
       "      <td>12</td>\n",
       "      <td>0</td>\n",
       "      <td>15</td>\n",
       "      <td>580</td>\n",
       "      <td>1269</td>\n",
       "      <td>643</td>\n",
       "    </tr>\n",
       "    <tr>\n",
       "      <th>4</th>\n",
       "      <td>2014-01-05</td>\n",
       "      <td>일요일</td>\n",
       "      <td>442</td>\n",
       "      <td>11</td>\n",
       "      <td>7</td>\n",
       "      <td>1</td>\n",
       "      <td>2</td>\n",
       "      <td>407</td>\n",
       "      <td>918</td>\n",
       "      <td>453</td>\n",
       "    </tr>\n",
       "  </tbody>\n",
       "</table>\n",
       "</div>"
      ],
      "text/plain": [
       "          날짜 요일구분   맑음  흐림   비  안개   눈   기타   미분류  맑고흐림\n",
       "0 2014-01-01  수요일  531  11   3   0   1  471  1000   542\n",
       "1 2014-01-02  목요일  627   9   4   1   0  643  1411   636\n",
       "2 2014-01-03  금요일  673  22   3   1   3  656  1371   695\n",
       "3 2014-01-04  토요일  629  14  12   0  15  580  1269   643\n",
       "4 2014-01-05  일요일  442  11   7   1   2  407   918   453"
      ]
     },
     "execution_count": 123,
     "metadata": {},
     "output_type": "execute_result"
    }
   ],
   "source": [
    "df.head()"
   ]
  }
 ],
 "metadata": {
  "kernelspec": {
   "display_name": "Python 3",
   "language": "python",
   "name": "python3"
  },
  "language_info": {
   "codemirror_mode": {
    "name": "ipython",
    "version": 3
   },
   "file_extension": ".py",
   "mimetype": "text/x-python",
   "name": "python",
   "nbconvert_exporter": "python",
   "pygments_lexer": "ipython3",
   "version": "3.5.1"
  }
 },
 "nbformat": 4,
 "nbformat_minor": 0
}
