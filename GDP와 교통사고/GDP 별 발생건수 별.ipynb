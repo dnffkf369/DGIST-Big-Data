{
 "cells": [
  {
   "cell_type": "code",
   "execution_count": 218,
   "metadata": {
    "collapsed": true
   },
   "outputs": [],
   "source": [
    "import pandas as pd\n",
    "import numpy as np\n",
    "import matplotlib.pyplot as plt"
   ]
  },
  {
   "cell_type": "code",
   "execution_count": 219,
   "metadata": {
    "collapsed": true
   },
   "outputs": [],
   "source": [
    "# matplotlib에서 한글 사용하기\n",
    "from matplotlib import font_manager, rc\n",
    "font_name = font_manager.FontProperties(fname=\"c:/Windows/Fonts/malgun.ttf\").get_name()\n",
    "rc('font', family=font_name)"
   ]
  },
  {
   "cell_type": "code",
   "execution_count": 220,
   "metadata": {
    "collapsed": false
   },
   "outputs": [
    {
     "name": "stderr",
     "output_type": "stream",
     "text": [
      "C:\\Users\\user\\Anaconda3\\lib\\site-packages\\ipykernel\\__main__.py:7: FutureWarning: sort(columns=....) is deprecated, use sort_values(by=.....)\n",
      "C:\\Users\\user\\Anaconda3\\lib\\site-packages\\ipykernel\\__main__.py:8: FutureWarning: sort(columns=....) is deprecated, use sort_values(by=.....)\n"
     ]
    }
   ],
   "source": [
    "data = pd.read_csv('국가별 교통사고.csv', engine = 'python')\n",
    "data.columns = data.iloc[1,:]\n",
    "data = data.drop([0,1])\n",
    "data.iloc[:,1] = data.iloc[:,1].str.replace('-','0')\n",
    "data = data.drop(data.columns[2:],axis=1)\n",
    "GDP = pd.read_excel('수제 GDP 데이터.xlsx')\n",
    "data = data.sort('국가').reset_index().drop('index',axis=1)\n",
    "GDP = GDP.sort('국가').reset_index().drop('index',axis=1)\n",
    "GDP.iloc[:,0] = GDP.iloc[:,0].str.replace('\\u3000\\u3000\\u3000','')"
   ]
  },
  {
   "cell_type": "code",
   "execution_count": 221,
   "metadata": {
    "collapsed": false
   },
   "outputs": [
    {
     "name": "stderr",
     "output_type": "stream",
     "text": [
      "C:\\Users\\user\\Anaconda3\\lib\\site-packages\\ipykernel\\__main__.py:1: FutureWarning: sort(columns=....) is deprecated, use sort_values(by=.....)\n",
      "  if __name__ == '__main__':\n",
      "C:\\Users\\user\\Anaconda3\\lib\\site-packages\\ipykernel\\__main__.py:4: FutureWarning: sort(columns=....) is deprecated, use sort_values(by=.....)\n"
     ]
    }
   ],
   "source": [
    "df = pd.merge(data.sort('국가'),GDP.sort('국가'),how='outer')\n",
    "df = df[df['교통사고발생건수(건)'] != '0']\n",
    "df.iloc[:,1] = df.iloc[:,1].str.replace(',','').astype(int)\n",
    "df = df.sort('총 GDP')"
   ]
  },
  {
   "cell_type": "code",
   "execution_count": 222,
   "metadata": {
    "collapsed": false
   },
   "outputs": [
    {
     "name": "stderr",
     "output_type": "stream",
     "text": [
      "C:\\Users\\user\\Anaconda3\\lib\\site-packages\\ipykernel\\__main__.py:6: FutureWarning: sort(columns=....) is deprecated, use sort_values(by=.....)\n"
     ]
    }
   ],
   "source": [
    "#GDP2는 인구데이터가 포함됨\n",
    "GDP2 = pd.read_excel('OECD GDP.xlsx')\n",
    "GDP2 = GDP2.iloc[:,:4]\n",
    "GDP2.columns = GDP2.iloc[0,:]\n",
    "GDP2 = GDP2.drop(0)\n",
    "GDP2 = GDP2.sort('총 GDP')"
   ]
  },
  {
   "cell_type": "code",
   "execution_count": 223,
   "metadata": {
    "collapsed": false
   },
   "outputs": [
    {
     "name": "stderr",
     "output_type": "stream",
     "text": [
      "C:\\Users\\user\\Anaconda3\\lib\\site-packages\\ipykernel\\__main__.py:4: FutureWarning: sort(columns=....) is deprecated, use sort_values(by=.....)\n"
     ]
    }
   ],
   "source": [
    "df2 = pd.merge(df,GDP2,how='outer')\n",
    "df2['1인당 GDP'] = df2['1인당 GDP']/10000 #GDP 값에다가 적당한 값 곱해서 스케일 맞춤\n",
    "df2['인당 사고수'] = df2['교통사고발생건수(건)']/df2['총인구']\n",
    "df2 = df2.sort('1인당 GDP')"
   ]
  },
  {
   "cell_type": "code",
   "execution_count": 224,
   "metadata": {
    "collapsed": false
   },
   "outputs": [],
   "source": [
    "#절대값으로 그린 그래프\n",
    "ax = df.plot(x='국가',y='총 GDP',color='red', lw=2)\n",
    "df.plot.bar(x='국가',y='교통사고발생건수(건)',ax=ax)\n",
    "plt.show()"
   ]
  },
  {
   "cell_type": "code",
   "execution_count": 225,
   "metadata": {
    "collapsed": true
   },
   "outputs": [],
   "source": [
    "#절대값으로 그린 그래프(인당)\n",
    "ax = df2.plot(x='국가',y='인당 사고수',color='red', lw=2, rot=10)\n",
    "df2.plot.bar(x='국가',y='1인당 GDP',ax=ax, rot=50)\n",
    "plt.show()"
   ]
  },
  {
   "cell_type": "code",
   "execution_count": 90,
   "metadata": {
    "collapsed": false
   },
   "outputs": [],
   "source": [
    "df_per = df.copy()\n",
    "df_per['사고퍼센트'] = df_per['교통사고발생건수(건)']/df_per['교통사고발생건수(건)'].sum()\n",
    "df_per['GDP퍼센트'] = df_per['총 GDP']/df_per['총 GDP'].sum()\n",
    "df_per = df_per.drop(['교통사고발생건수(건)','총 GDP'],axis=1)\n",
    "# 미국 사고수랑 GDP가 압도적으로 높으니 쳐내서 없애자.\n",
    "df_per = df_per.drop(9)"
   ]
  },
  {
   "cell_type": "code",
   "execution_count": 226,
   "metadata": {
    "collapsed": false
   },
   "outputs": [],
   "source": [
    "df2_per = df2.copy()\n",
    "df2_per['인당사고퍼센트'] = df2_per['인당 사고수']/df2_per['인당 사고수'].sum()\n",
    "df2_per['인당GDP퍼센트'] = df2_per['1인당 GDP']/df2_per['1인당 GDP'].sum()\n",
    "df2_per['인구퍼센트'] = df2_per['총인구']/df2_per['총인구'].sum()\n",
    "df2_per = df2_per.drop(['인당 사고수','1인당 GDP'],axis=1)"
   ]
  },
  {
   "cell_type": "code",
   "execution_count": 216,
   "metadata": {
    "collapsed": false
   },
   "outputs": [],
   "source": [
    "#퍼센트로 그린 그래프\n",
    "ax = df_per.plot(x='국가',y='사고퍼센트',color='red', lw=3)\n",
    "df_per.plot.bar(x='국가',y='GDP퍼센트',ax=ax)\n",
    "plt.show()"
   ]
  },
  {
   "cell_type": "code",
   "execution_count": 227,
   "metadata": {
    "collapsed": true
   },
   "outputs": [],
   "source": [
    "#퍼센트로 그린 그래프(인당)\n",
    "ax = df2_per.plot(x='국가',y='인당사고퍼센트',color='red', lw=3)\n",
    "df2_per.plot.bar(x='국가',y='인당GDP퍼센트',ax=ax)\n",
    "plt.show()"
   ]
  },
  {
   "cell_type": "code",
   "execution_count": 214,
   "metadata": {
    "collapsed": false
   },
   "outputs": [
    {
     "name": "stderr",
     "output_type": "stream",
     "text": [
      "C:\\Users\\user\\Anaconda3\\lib\\site-packages\\ipykernel\\__main__.py:4: FutureWarning: sort(columns=....) is deprecated, use sort_values(by=.....)\n"
     ]
    }
   ],
   "source": [
    "#재미로 그려본 인구당 사고수(인당)\n",
    "df_tmp = df2_per.copy()\n",
    "df_tmp['사고퍼센트'] = df_tmp['교통사고발생건수(건)']/df_tmp['교통사고발생건수(건)'].sum()\n",
    "df_tmp = df_tmp.sort('인구퍼센트')\n",
    "ax = df_tmp.plot(x='국가',y='사고퍼센트',color='red', lw=3)\n",
    "df_tmp.plot.bar(x='국가',y='인구퍼센트',ax=ax, rot = 50)\n",
    "plt.show()"
   ]
  }
 ],
 "metadata": {
  "kernelspec": {
   "display_name": "Python 3",
   "language": "python",
   "name": "python3"
  },
  "language_info": {
   "codemirror_mode": {
    "name": "ipython",
    "version": 3
   },
   "file_extension": ".py",
   "mimetype": "text/x-python",
   "name": "python",
   "nbconvert_exporter": "python",
   "pygments_lexer": "ipython3",
   "version": "3.5.1"
  }
 },
 "nbformat": 4,
 "nbformat_minor": 2
}
